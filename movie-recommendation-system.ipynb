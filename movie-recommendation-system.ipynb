{
 "cells": [
  {
   "cell_type": "code",
   "execution_count": 1,
   "id": "a63226bf",
   "metadata": {
    "_cell_guid": "b1076dfc-b9ad-4769-8c92-a6c4dae69d19",
    "_uuid": "8f2839f25d086af736a60e9eeb907d3b93b6e0e5",
    "execution": {
     "iopub.execute_input": "2022-11-22T03:29:00.478809Z",
     "iopub.status.busy": "2022-11-22T03:29:00.478027Z",
     "iopub.status.idle": "2022-11-22T03:29:00.497764Z",
     "shell.execute_reply": "2022-11-22T03:29:00.496480Z"
    },
    "papermill": {
     "duration": 0.035459,
     "end_time": "2022-11-22T03:29:00.500046",
     "exception": false,
     "start_time": "2022-11-22T03:29:00.464587",
     "status": "completed"
    },
    "tags": []
   },
   "outputs": [
    {
     "name": "stdout",
     "output_type": "stream",
     "text": [
      "/kaggle/input/the-movies-dataset/ratings.csv\n",
      "/kaggle/input/the-movies-dataset/links_small.csv\n",
      "/kaggle/input/the-movies-dataset/credits.csv\n",
      "/kaggle/input/the-movies-dataset/keywords.csv\n",
      "/kaggle/input/the-movies-dataset/movies_metadata.csv\n",
      "/kaggle/input/the-movies-dataset/ratings_small.csv\n",
      "/kaggle/input/the-movies-dataset/links.csv\n"
     ]
    }
   ],
   "source": [
    "# This Python 3 environment comes with many helpful analytics libraries installed\n",
    "# It is defined by the kaggle/python Docker image: https://github.com/kaggle/docker-python\n",
    "# For example, here's several helpful packages to load\n",
    "\n",
    "import numpy as np # linear algebra\n",
    "import pandas as pd # data processing, CSV file I/O (e.g. pd.read_csv)\n",
    "\n",
    "# Input data files are available in the read-only \"../input/\" directory\n",
    "# For example, running this (by clicking run or pressing Shift+Enter) will list all files under the input directory\n",
    "\n",
    "import os\n",
    "for dirname, _, filenames in os.walk('/kaggle/input'):\n",
    "    for filename in filenames:\n",
    "        print(os.path.join(dirname, filename))\n",
    "\n",
    "# You can write up to 20GB to the current directory (/kaggle/working/) that gets preserved as output when you create a version using \"Save & Run All\" \n",
    "# You can also write temporary files to /kaggle/temp/, but they won't be saved outside of the current session"
   ]
  },
  {
   "cell_type": "code",
   "execution_count": 2,
   "id": "3f448fcf",
   "metadata": {
    "execution": {
     "iopub.execute_input": "2022-11-22T03:29:00.526526Z",
     "iopub.status.busy": "2022-11-22T03:29:00.526195Z",
     "iopub.status.idle": "2022-11-22T03:29:00.672682Z",
     "shell.execute_reply": "2022-11-22T03:29:00.671297Z"
    },
    "papermill": {
     "duration": 0.162195,
     "end_time": "2022-11-22T03:29:00.675132",
     "exception": false,
     "start_time": "2022-11-22T03:29:00.512937",
     "status": "completed"
    },
    "tags": []
   },
   "outputs": [],
   "source": [
    "#importing required header files\n",
    "import pandas as pd\n",
    "import numpy as np\n",
    "import plotly.graph_objs as go\n",
    "import matplotlib.pyplot as plt\n",
    "from surprise import SVD\n",
    "from surprise import KNNBasic, KNNWithMeans, KNNBaseline, KNNWithZScore\n",
    "from surprise import Reader,accuracy\n",
    "from surprise import Dataset\n",
    "from surprise.model_selection import cross_validate, train_test_split"
   ]
  },
  {
   "cell_type": "code",
   "execution_count": 3,
   "id": "0caff25d",
   "metadata": {
    "execution": {
     "iopub.execute_input": "2022-11-22T03:29:00.698280Z",
     "iopub.status.busy": "2022-11-22T03:29:00.697952Z",
     "iopub.status.idle": "2022-11-22T03:29:00.780275Z",
     "shell.execute_reply": "2022-11-22T03:29:00.779154Z"
    },
    "papermill": {
     "duration": 0.096412,
     "end_time": "2022-11-22T03:29:00.782431",
     "exception": false,
     "start_time": "2022-11-22T03:29:00.686019",
     "status": "completed"
    },
    "tags": []
   },
   "outputs": [],
   "source": [
    "rating_data = pd.read_csv(\"../input/the-movies-dataset/ratings_small.csv\")"
   ]
  },
  {
   "cell_type": "code",
   "execution_count": 4,
   "id": "3c8a4d55",
   "metadata": {
    "execution": {
     "iopub.execute_input": "2022-11-22T03:29:00.806211Z",
     "iopub.status.busy": "2022-11-22T03:29:00.805830Z",
     "iopub.status.idle": "2022-11-22T03:29:00.827662Z",
     "shell.execute_reply": "2022-11-22T03:29:00.826851Z"
    },
    "papermill": {
     "duration": 0.036272,
     "end_time": "2022-11-22T03:29:00.829533",
     "exception": false,
     "start_time": "2022-11-22T03:29:00.793261",
     "status": "completed"
    },
    "tags": []
   },
   "outputs": [
    {
     "data": {
      "text/html": [
       "<div>\n",
       "<style scoped>\n",
       "    .dataframe tbody tr th:only-of-type {\n",
       "        vertical-align: middle;\n",
       "    }\n",
       "\n",
       "    .dataframe tbody tr th {\n",
       "        vertical-align: top;\n",
       "    }\n",
       "\n",
       "    .dataframe thead th {\n",
       "        text-align: right;\n",
       "    }\n",
       "</style>\n",
       "<table border=\"1\" class=\"dataframe\">\n",
       "  <thead>\n",
       "    <tr style=\"text-align: right;\">\n",
       "      <th></th>\n",
       "      <th>userId</th>\n",
       "      <th>movieId</th>\n",
       "      <th>rating</th>\n",
       "      <th>timestamp</th>\n",
       "    </tr>\n",
       "  </thead>\n",
       "  <tbody>\n",
       "    <tr>\n",
       "      <th>0</th>\n",
       "      <td>1</td>\n",
       "      <td>31</td>\n",
       "      <td>2.5</td>\n",
       "      <td>1260759144</td>\n",
       "    </tr>\n",
       "    <tr>\n",
       "      <th>1</th>\n",
       "      <td>1</td>\n",
       "      <td>1029</td>\n",
       "      <td>3.0</td>\n",
       "      <td>1260759179</td>\n",
       "    </tr>\n",
       "    <tr>\n",
       "      <th>2</th>\n",
       "      <td>1</td>\n",
       "      <td>1061</td>\n",
       "      <td>3.0</td>\n",
       "      <td>1260759182</td>\n",
       "    </tr>\n",
       "    <tr>\n",
       "      <th>3</th>\n",
       "      <td>1</td>\n",
       "      <td>1129</td>\n",
       "      <td>2.0</td>\n",
       "      <td>1260759185</td>\n",
       "    </tr>\n",
       "    <tr>\n",
       "      <th>4</th>\n",
       "      <td>1</td>\n",
       "      <td>1172</td>\n",
       "      <td>4.0</td>\n",
       "      <td>1260759205</td>\n",
       "    </tr>\n",
       "    <tr>\n",
       "      <th>5</th>\n",
       "      <td>1</td>\n",
       "      <td>1263</td>\n",
       "      <td>2.0</td>\n",
       "      <td>1260759151</td>\n",
       "    </tr>\n",
       "    <tr>\n",
       "      <th>6</th>\n",
       "      <td>1</td>\n",
       "      <td>1287</td>\n",
       "      <td>2.0</td>\n",
       "      <td>1260759187</td>\n",
       "    </tr>\n",
       "    <tr>\n",
       "      <th>7</th>\n",
       "      <td>1</td>\n",
       "      <td>1293</td>\n",
       "      <td>2.0</td>\n",
       "      <td>1260759148</td>\n",
       "    </tr>\n",
       "    <tr>\n",
       "      <th>8</th>\n",
       "      <td>1</td>\n",
       "      <td>1339</td>\n",
       "      <td>3.5</td>\n",
       "      <td>1260759125</td>\n",
       "    </tr>\n",
       "    <tr>\n",
       "      <th>9</th>\n",
       "      <td>1</td>\n",
       "      <td>1343</td>\n",
       "      <td>2.0</td>\n",
       "      <td>1260759131</td>\n",
       "    </tr>\n",
       "  </tbody>\n",
       "</table>\n",
       "</div>"
      ],
      "text/plain": [
       "   userId  movieId  rating   timestamp\n",
       "0       1       31     2.5  1260759144\n",
       "1       1     1029     3.0  1260759179\n",
       "2       1     1061     3.0  1260759182\n",
       "3       1     1129     2.0  1260759185\n",
       "4       1     1172     4.0  1260759205\n",
       "5       1     1263     2.0  1260759151\n",
       "6       1     1287     2.0  1260759187\n",
       "7       1     1293     2.0  1260759148\n",
       "8       1     1339     3.5  1260759125\n",
       "9       1     1343     2.0  1260759131"
      ]
     },
     "execution_count": 4,
     "metadata": {},
     "output_type": "execute_result"
    }
   ],
   "source": [
    "rating_data.head(10)"
   ]
  },
  {
   "cell_type": "code",
   "execution_count": 5,
   "id": "cbf3271d",
   "metadata": {
    "execution": {
     "iopub.execute_input": "2022-11-22T03:29:00.853292Z",
     "iopub.status.busy": "2022-11-22T03:29:00.852718Z",
     "iopub.status.idle": "2022-11-22T03:29:00.858024Z",
     "shell.execute_reply": "2022-11-22T03:29:00.856448Z"
    },
    "papermill": {
     "duration": 0.019809,
     "end_time": "2022-11-22T03:29:00.860438",
     "exception": false,
     "start_time": "2022-11-22T03:29:00.840629",
     "status": "completed"
    },
    "tags": []
   },
   "outputs": [
    {
     "name": "stdout",
     "output_type": "stream",
     "text": [
      "['userId' 'movieId' 'rating' 'timestamp']\n"
     ]
    }
   ],
   "source": [
    "print(rating_data.columns.values)"
   ]
  },
  {
   "cell_type": "code",
   "execution_count": 6,
   "id": "2bfee0bd",
   "metadata": {
    "execution": {
     "iopub.execute_input": "2022-11-22T03:29:00.884388Z",
     "iopub.status.busy": "2022-11-22T03:29:00.883292Z",
     "iopub.status.idle": "2022-11-22T03:29:00.992713Z",
     "shell.execute_reply": "2022-11-22T03:29:00.991068Z"
    },
    "papermill": {
     "duration": 0.123773,
     "end_time": "2022-11-22T03:29:00.995065",
     "exception": false,
     "start_time": "2022-11-22T03:29:00.871292",
     "status": "completed"
    },
    "tags": []
   },
   "outputs": [],
   "source": [
    "reader = Reader(rating_scale=(1, 5))\n",
    "ratings = Dataset.load_from_df(rating_data[['userId', 'movieId', 'rating']], reader)"
   ]
  },
  {
   "cell_type": "markdown",
   "id": "3e697d42",
   "metadata": {
    "papermill": {
     "duration": 0.011155,
     "end_time": "2022-11-22T03:29:01.016968",
     "exception": false,
     "start_time": "2022-11-22T03:29:01.005813",
     "status": "completed"
    },
    "tags": []
   },
   "source": [
    "# RMSE and MAE for Probabilistic Matrix Factorization (PMF)"
   ]
  },
  {
   "cell_type": "code",
   "execution_count": 7,
   "id": "bfcc1234",
   "metadata": {
    "execution": {
     "iopub.execute_input": "2022-11-22T03:29:01.040927Z",
     "iopub.status.busy": "2022-11-22T03:29:01.040571Z",
     "iopub.status.idle": "2022-11-22T03:29:26.813825Z",
     "shell.execute_reply": "2022-11-22T03:29:26.811668Z"
    },
    "papermill": {
     "duration": 25.788235,
     "end_time": "2022-11-22T03:29:26.816357",
     "exception": false,
     "start_time": "2022-11-22T03:29:01.028122",
     "status": "completed"
    },
    "tags": []
   },
   "outputs": [
    {
     "name": "stdout",
     "output_type": "stream",
     "text": [
      "Evaluating RMSE, MAE of algorithm SVD on 5 split(s).\n",
      "\n",
      "                  Fold 1  Fold 2  Fold 3  Fold 4  Fold 5  Mean    Std     \n",
      "RMSE (testset)    1.0140  1.0067  1.0080  1.0011  1.0248  1.0109  0.0081  \n",
      "MAE (testset)     0.7826  0.7769  0.7757  0.7748  0.7899  0.7800  0.0057  \n",
      "Fit time          4.75    4.91    4.89    4.76    4.79    4.82    0.07    \n",
      "Test time         0.23    0.12    0.25    0.12    0.12    0.17    0.06    \n"
     ]
    }
   ],
   "source": [
    "algo_pmf = SVD(biased = False)\n",
    "crossval_pmf = cross_validate(algo_pmf, ratings, measures = ['RMSE','MAE'], cv = 5, verbose = True)"
   ]
  },
  {
   "cell_type": "code",
   "execution_count": 8,
   "id": "71f05543",
   "metadata": {
    "execution": {
     "iopub.execute_input": "2022-11-22T03:29:26.840458Z",
     "iopub.status.busy": "2022-11-22T03:29:26.840116Z",
     "iopub.status.idle": "2022-11-22T03:29:26.847643Z",
     "shell.execute_reply": "2022-11-22T03:29:26.846274Z"
    },
    "papermill": {
     "duration": 0.021721,
     "end_time": "2022-11-22T03:29:26.849854",
     "exception": false,
     "start_time": "2022-11-22T03:29:26.828133",
     "status": "completed"
    },
    "tags": []
   },
   "outputs": [
    {
     "data": {
      "text/plain": [
       "{'test_rmse': array([1.01396476, 1.00670582, 1.00798735, 1.0010983 , 1.02480296]),\n",
       " 'test_mae': array([0.78262463, 0.7768868 , 0.77571552, 0.77478346, 0.78994605]),\n",
       " 'fit_time': (4.751561164855957,\n",
       "  4.906000375747681,\n",
       "  4.890843629837036,\n",
       "  4.7579896450042725,\n",
       "  4.788811445236206),\n",
       " 'test_time': (0.23474478721618652,\n",
       "  0.1235203742980957,\n",
       "  0.25080156326293945,\n",
       "  0.12246131896972656,\n",
       "  0.12373995780944824)}"
      ]
     },
     "execution_count": 8,
     "metadata": {},
     "output_type": "execute_result"
    }
   ],
   "source": [
    "crossval_pmf"
   ]
  },
  {
   "cell_type": "code",
   "execution_count": 9,
   "id": "0495ed87",
   "metadata": {
    "execution": {
     "iopub.execute_input": "2022-11-22T03:29:26.873985Z",
     "iopub.status.busy": "2022-11-22T03:29:26.873165Z",
     "iopub.status.idle": "2022-11-22T03:29:26.880261Z",
     "shell.execute_reply": "2022-11-22T03:29:26.878265Z"
    },
    "papermill": {
     "duration": 0.021683,
     "end_time": "2022-11-22T03:29:26.882656",
     "exception": false,
     "start_time": "2022-11-22T03:29:26.860973",
     "status": "completed"
    },
    "tags": []
   },
   "outputs": [
    {
     "name": "stdout",
     "output_type": "stream",
     "text": [
      "Average RMSE for PMF:  1.0109118359746154\n",
      "Average MAE for PMF:  0.7799912907228539\n"
     ]
    }
   ],
   "source": [
    "print(\"Average RMSE for PMF: \", crossval_pmf['test_rmse'].mean())\n",
    "print(\"Average MAE for PMF: \", crossval_pmf['test_mae'].mean())"
   ]
  },
  {
   "cell_type": "markdown",
   "id": "82bc9667",
   "metadata": {
    "papermill": {
     "duration": 0.010883,
     "end_time": "2022-11-22T03:29:26.904639",
     "exception": false,
     "start_time": "2022-11-22T03:29:26.893756",
     "status": "completed"
    },
    "tags": []
   },
   "source": [
    "# RMSE and MAE for User based collaborative filtering"
   ]
  },
  {
   "cell_type": "markdown",
   "id": "7eb21cf0",
   "metadata": {
    "papermill": {
     "duration": 0.010856,
     "end_time": "2022-11-22T03:29:26.926731",
     "exception": false,
     "start_time": "2022-11-22T03:29:26.915875",
     "status": "completed"
    },
    "tags": []
   },
   "source": [
    "***KNNBasic***"
   ]
  },
  {
   "cell_type": "code",
   "execution_count": 10,
   "id": "edd96c46",
   "metadata": {
    "execution": {
     "iopub.execute_input": "2022-11-22T03:29:26.951138Z",
     "iopub.status.busy": "2022-11-22T03:29:26.950762Z",
     "iopub.status.idle": "2022-11-22T03:29:36.374505Z",
     "shell.execute_reply": "2022-11-22T03:29:36.373075Z"
    },
    "papermill": {
     "duration": 9.438591,
     "end_time": "2022-11-22T03:29:36.376871",
     "exception": false,
     "start_time": "2022-11-22T03:29:26.938280",
     "status": "completed"
    },
    "tags": []
   },
   "outputs": [
    {
     "name": "stdout",
     "output_type": "stream",
     "text": [
      "Computing the msd similarity matrix...\n",
      "Done computing similarity matrix.\n",
      "Computing the msd similarity matrix...\n",
      "Done computing similarity matrix.\n",
      "Computing the msd similarity matrix...\n",
      "Done computing similarity matrix.\n",
      "Computing the msd similarity matrix...\n",
      "Done computing similarity matrix.\n",
      "Computing the msd similarity matrix...\n",
      "Done computing similarity matrix.\n",
      "Evaluating RMSE, MAE of algorithm KNNBasic on 5 split(s).\n",
      "\n",
      "                  Fold 1  Fold 2  Fold 3  Fold 4  Fold 5  Mean    Std     \n",
      "RMSE (testset)    0.9647  0.9657  0.9685  0.9783  0.9666  0.9688  0.0049  \n",
      "MAE (testset)     0.7419  0.7420  0.7432  0.7538  0.7420  0.7446  0.0046  \n",
      "Fit time          0.17    0.18    0.20    0.21    0.17    0.18    0.01    \n",
      "Test time         1.65    1.48    1.45    1.47    1.48    1.50    0.08    \n"
     ]
    }
   ],
   "source": [
    "sim_param = {'user_based': True}\n",
    "algo_userb = KNNBasic(sim_options=sim_param)\n",
    "crossval_userb_kbc = cross_validate(algo_userb, ratings, measures=['RMSE', 'MAE'], cv=5, verbose=True)"
   ]
  },
  {
   "cell_type": "code",
   "execution_count": 11,
   "id": "e4895963",
   "metadata": {
    "execution": {
     "iopub.execute_input": "2022-11-22T03:29:36.401165Z",
     "iopub.status.busy": "2022-11-22T03:29:36.400835Z",
     "iopub.status.idle": "2022-11-22T03:29:36.408645Z",
     "shell.execute_reply": "2022-11-22T03:29:36.407473Z"
    },
    "papermill": {
     "duration": 0.022792,
     "end_time": "2022-11-22T03:29:36.410989",
     "exception": false,
     "start_time": "2022-11-22T03:29:36.388197",
     "status": "completed"
    },
    "tags": []
   },
   "outputs": [
    {
     "data": {
      "text/plain": [
       "{'test_rmse': array([0.96470621, 0.9656973 , 0.96846591, 0.97825379, 0.96663833]),\n",
       " 'test_mae': array([0.74191748, 0.74204939, 0.74319374, 0.75380641, 0.74195372]),\n",
       " 'fit_time': (0.1667490005493164,\n",
       "  0.17637944221496582,\n",
       "  0.19505572319030762,\n",
       "  0.20519804954528809,\n",
       "  0.17272233963012695),\n",
       " 'test_time': (1.653214693069458,\n",
       "  1.4798321723937988,\n",
       "  1.4460647106170654,\n",
       "  1.4676837921142578,\n",
       "  1.4781270027160645)}"
      ]
     },
     "execution_count": 11,
     "metadata": {},
     "output_type": "execute_result"
    }
   ],
   "source": [
    "crossval_userb_kbc"
   ]
  },
  {
   "cell_type": "code",
   "execution_count": 12,
   "id": "fb48414c",
   "metadata": {
    "execution": {
     "iopub.execute_input": "2022-11-22T03:29:36.435213Z",
     "iopub.status.busy": "2022-11-22T03:29:36.434910Z",
     "iopub.status.idle": "2022-11-22T03:29:36.440957Z",
     "shell.execute_reply": "2022-11-22T03:29:36.439246Z"
    },
    "papermill": {
     "duration": 0.020735,
     "end_time": "2022-11-22T03:29:36.443113",
     "exception": false,
     "start_time": "2022-11-22T03:29:36.422378",
     "status": "completed"
    },
    "tags": []
   },
   "outputs": [
    {
     "name": "stdout",
     "output_type": "stream",
     "text": [
      "Average RMSE from KNNBasic Algorithm for User based collaborative filtering:  0.9687523093713706\n",
      "Average MAE from KNNBasic Algorithm for User based collaborative filtering:  0.7445841481807924\n"
     ]
    }
   ],
   "source": [
    "print(\"Average RMSE from KNNBasic Algorithm for User based collaborative filtering: \", crossval_userb_kbc['test_rmse'].mean())\n",
    "print(\"Average MAE from KNNBasic Algorithm for User based collaborative filtering: \", crossval_userb_kbc['test_mae'].mean())"
   ]
  },
  {
   "cell_type": "markdown",
   "id": "a819ce40",
   "metadata": {
    "papermill": {
     "duration": 0.010639,
     "end_time": "2022-11-22T03:29:36.465688",
     "exception": false,
     "start_time": "2022-11-22T03:29:36.455049",
     "status": "completed"
    },
    "tags": []
   },
   "source": [
    "***KNNWithMeans***"
   ]
  },
  {
   "cell_type": "code",
   "execution_count": 13,
   "id": "c6c02986",
   "metadata": {
    "execution": {
     "iopub.execute_input": "2022-11-22T03:29:36.489563Z",
     "iopub.status.busy": "2022-11-22T03:29:36.489270Z",
     "iopub.status.idle": "2022-11-22T03:29:46.614966Z",
     "shell.execute_reply": "2022-11-22T03:29:46.613283Z"
    },
    "papermill": {
     "duration": 10.141514,
     "end_time": "2022-11-22T03:29:46.617986",
     "exception": false,
     "start_time": "2022-11-22T03:29:36.476472",
     "status": "completed"
    },
    "tags": []
   },
   "outputs": [
    {
     "name": "stdout",
     "output_type": "stream",
     "text": [
      "Computing the msd similarity matrix...\n",
      "Done computing similarity matrix.\n",
      "Computing the msd similarity matrix...\n",
      "Done computing similarity matrix.\n",
      "Computing the msd similarity matrix...\n",
      "Done computing similarity matrix.\n",
      "Computing the msd similarity matrix...\n",
      "Done computing similarity matrix.\n",
      "Computing the msd similarity matrix...\n",
      "Done computing similarity matrix.\n",
      "Evaluating RMSE, MAE of algorithm KNNWithMeans on 5 split(s).\n",
      "\n",
      "                  Fold 1  Fold 2  Fold 3  Fold 4  Fold 5  Mean    Std     \n",
      "RMSE (testset)    0.9225  0.9157  0.9259  0.9233  0.9079  0.9191  0.0065  \n",
      "MAE (testset)     0.7056  0.7014  0.7077  0.7073  0.6953  0.7035  0.0046  \n",
      "Fit time          0.18    0.23    0.22    0.24    0.23    0.22    0.02    \n",
      "Test time         1.72    1.55    1.70    1.61    1.57    1.63    0.07    \n"
     ]
    }
   ],
   "source": [
    "sim_param = {'user_based': True}\n",
    "algo_userb = KNNWithMeans(sim_options=sim_param)\n",
    "crossval_userb_kwm = cross_validate(algo_userb, ratings, measures=['RMSE', 'MAE'], cv=5, verbose=True)"
   ]
  },
  {
   "cell_type": "code",
   "execution_count": 14,
   "id": "86dcc14a",
   "metadata": {
    "execution": {
     "iopub.execute_input": "2022-11-22T03:29:46.645517Z",
     "iopub.status.busy": "2022-11-22T03:29:46.645181Z",
     "iopub.status.idle": "2022-11-22T03:29:46.652588Z",
     "shell.execute_reply": "2022-11-22T03:29:46.651141Z"
    },
    "papermill": {
     "duration": 0.024175,
     "end_time": "2022-11-22T03:29:46.654497",
     "exception": false,
     "start_time": "2022-11-22T03:29:46.630322",
     "status": "completed"
    },
    "tags": []
   },
   "outputs": [
    {
     "data": {
      "text/plain": [
       "{'test_rmse': array([0.92254423, 0.91571365, 0.92592106, 0.92325389, 0.90788371]),\n",
       " 'test_mae': array([0.70560945, 0.70138948, 0.7076875 , 0.70727433, 0.69532751]),\n",
       " 'fit_time': (0.18257355690002441,\n",
       "  0.23410892486572266,\n",
       "  0.22107934951782227,\n",
       "  0.24274635314941406,\n",
       "  0.23402619361877441),\n",
       " 'test_time': (1.7180347442626953,\n",
       "  1.5514259338378906,\n",
       "  1.699389934539795,\n",
       "  1.6137053966522217,\n",
       "  1.5733897686004639)}"
      ]
     },
     "execution_count": 14,
     "metadata": {},
     "output_type": "execute_result"
    }
   ],
   "source": [
    "crossval_userb_kwm"
   ]
  },
  {
   "cell_type": "code",
   "execution_count": 15,
   "id": "501ef159",
   "metadata": {
    "execution": {
     "iopub.execute_input": "2022-11-22T03:29:46.680584Z",
     "iopub.status.busy": "2022-11-22T03:29:46.680240Z",
     "iopub.status.idle": "2022-11-22T03:29:46.685945Z",
     "shell.execute_reply": "2022-11-22T03:29:46.684929Z"
    },
    "papermill": {
     "duration": 0.020443,
     "end_time": "2022-11-22T03:29:46.687724",
     "exception": false,
     "start_time": "2022-11-22T03:29:46.667281",
     "status": "completed"
    },
    "tags": []
   },
   "outputs": [
    {
     "name": "stdout",
     "output_type": "stream",
     "text": [
      "Average RMSE from KNNWithMeans Algorithm for User based collaborative filtering:  0.919063308015569\n",
      "Average MAE from KNNWithMeans Algorithm for User based collaborative filtering:  0.7034576510150141\n"
     ]
    }
   ],
   "source": [
    "print(\"Average RMSE from KNNWithMeans Algorithm for User based collaborative filtering: \", crossval_userb_kwm['test_rmse'].mean())\n",
    "print(\"Average MAE from KNNWithMeans Algorithm for User based collaborative filtering: \", crossval_userb_kwm['test_mae'].mean())"
   ]
  },
  {
   "cell_type": "markdown",
   "id": "dfccaec4",
   "metadata": {
    "papermill": {
     "duration": 0.012997,
     "end_time": "2022-11-22T03:29:46.713269",
     "exception": false,
     "start_time": "2022-11-22T03:29:46.700272",
     "status": "completed"
    },
    "tags": []
   },
   "source": [
    "***KNNBaseline***"
   ]
  },
  {
   "cell_type": "code",
   "execution_count": 16,
   "id": "695869e1",
   "metadata": {
    "execution": {
     "iopub.execute_input": "2022-11-22T03:29:46.740707Z",
     "iopub.status.busy": "2022-11-22T03:29:46.740180Z",
     "iopub.status.idle": "2022-11-22T03:29:59.453812Z",
     "shell.execute_reply": "2022-11-22T03:29:59.452445Z"
    },
    "papermill": {
     "duration": 12.730866,
     "end_time": "2022-11-22T03:29:59.457148",
     "exception": false,
     "start_time": "2022-11-22T03:29:46.726282",
     "status": "completed"
    },
    "tags": []
   },
   "outputs": [
    {
     "name": "stdout",
     "output_type": "stream",
     "text": [
      "Estimating biases using als...\n",
      "Computing the msd similarity matrix...\n",
      "Done computing similarity matrix.\n",
      "Estimating biases using als...\n",
      "Computing the msd similarity matrix...\n",
      "Done computing similarity matrix.\n",
      "Estimating biases using als...\n",
      "Computing the msd similarity matrix...\n",
      "Done computing similarity matrix.\n",
      "Estimating biases using als...\n",
      "Computing the msd similarity matrix...\n",
      "Done computing similarity matrix.\n",
      "Estimating biases using als...\n",
      "Computing the msd similarity matrix...\n",
      "Done computing similarity matrix.\n",
      "Evaluating RMSE, MAE of algorithm KNNBaseline on 5 split(s).\n",
      "\n",
      "                  Fold 1  Fold 2  Fold 3  Fold 4  Fold 5  Mean    Std     \n",
      "RMSE (testset)    0.8903  0.8986  0.8870  0.8988  0.9036  0.8956  0.0061  \n",
      "MAE (testset)     0.6831  0.6875  0.6806  0.6879  0.6880  0.6855  0.0030  \n",
      "Fit time          0.52    0.53    0.54    0.56    0.55    0.54    0.01    \n",
      "Test time         1.96    1.74    1.80    1.78    1.75    1.80    0.08    \n"
     ]
    }
   ],
   "source": [
    "sim_param = {'user_based': True}\n",
    "algo_userb = KNNBaseline(sim_options=sim_param)\n",
    "crossval_userb_kbl = cross_validate(algo_userb, ratings, measures=['RMSE', 'MAE'], cv=5, verbose=True)"
   ]
  },
  {
   "cell_type": "code",
   "execution_count": 17,
   "id": "2e79b3b3",
   "metadata": {
    "execution": {
     "iopub.execute_input": "2022-11-22T03:29:59.484808Z",
     "iopub.status.busy": "2022-11-22T03:29:59.484500Z",
     "iopub.status.idle": "2022-11-22T03:29:59.491401Z",
     "shell.execute_reply": "2022-11-22T03:29:59.490467Z"
    },
    "papermill": {
     "duration": 0.022872,
     "end_time": "2022-11-22T03:29:59.493206",
     "exception": false,
     "start_time": "2022-11-22T03:29:59.470334",
     "status": "completed"
    },
    "tags": []
   },
   "outputs": [
    {
     "data": {
      "text/plain": [
       "{'test_rmse': array([0.89031561, 0.89855559, 0.88702484, 0.89878624, 0.90356362]),\n",
       " 'test_mae': array([0.68313652, 0.68754882, 0.68064897, 0.68794516, 0.68801596]),\n",
       " 'fit_time': (0.5150697231292725,\n",
       "  0.5297634601593018,\n",
       "  0.5376248359680176,\n",
       "  0.5579991340637207,\n",
       "  0.5483705997467041),\n",
       " 'test_time': (1.9627063274383545,\n",
       "  1.7414560317993164,\n",
       "  1.7974731922149658,\n",
       "  1.7751963138580322,\n",
       "  1.747779369354248)}"
      ]
     },
     "execution_count": 17,
     "metadata": {},
     "output_type": "execute_result"
    }
   ],
   "source": [
    "crossval_userb_kbl"
   ]
  },
  {
   "cell_type": "code",
   "execution_count": 18,
   "id": "6ad53be4",
   "metadata": {
    "execution": {
     "iopub.execute_input": "2022-11-22T03:29:59.520304Z",
     "iopub.status.busy": "2022-11-22T03:29:59.519978Z",
     "iopub.status.idle": "2022-11-22T03:29:59.525804Z",
     "shell.execute_reply": "2022-11-22T03:29:59.524080Z"
    },
    "papermill": {
     "duration": 0.021785,
     "end_time": "2022-11-22T03:29:59.527759",
     "exception": false,
     "start_time": "2022-11-22T03:29:59.505974",
     "status": "completed"
    },
    "tags": []
   },
   "outputs": [
    {
     "name": "stdout",
     "output_type": "stream",
     "text": [
      "Average RMSE from KNNBaseline Algorithm for User based collaborative filtering:  0.8956491806113822\n",
      "Average MAE from KNNBaseline Algorithm for User based collaborative filtering:  0.6854590884909398\n"
     ]
    }
   ],
   "source": [
    "print(\"Average RMSE from KNNBaseline Algorithm for User based collaborative filtering: \", crossval_userb_kbl['test_rmse'].mean())\n",
    "print(\"Average MAE from KNNBaseline Algorithm for User based collaborative filtering: \", crossval_userb_kbl['test_mae'].mean())"
   ]
  },
  {
   "cell_type": "markdown",
   "id": "e3da5e38",
   "metadata": {
    "papermill": {
     "duration": 0.012329,
     "end_time": "2022-11-22T03:29:59.552739",
     "exception": false,
     "start_time": "2022-11-22T03:29:59.540410",
     "status": "completed"
    },
    "tags": []
   },
   "source": [
    "****Minimum RMSE AND MAE for User based collaborative filtering****"
   ]
  },
  {
   "cell_type": "code",
   "execution_count": 19,
   "id": "9c4c4147",
   "metadata": {
    "execution": {
     "iopub.execute_input": "2022-11-22T03:29:59.579432Z",
     "iopub.status.busy": "2022-11-22T03:29:59.579111Z",
     "iopub.status.idle": "2022-11-22T03:29:59.595930Z",
     "shell.execute_reply": "2022-11-22T03:29:59.595028Z"
    },
    "papermill": {
     "duration": 0.032106,
     "end_time": "2022-11-22T03:29:59.597528",
     "exception": false,
     "start_time": "2022-11-22T03:29:59.565422",
     "status": "completed"
    },
    "tags": []
   },
   "outputs": [
    {
     "data": {
      "text/html": [
       "<div>\n",
       "<style scoped>\n",
       "    .dataframe tbody tr th:only-of-type {\n",
       "        vertical-align: middle;\n",
       "    }\n",
       "\n",
       "    .dataframe tbody tr th {\n",
       "        vertical-align: top;\n",
       "    }\n",
       "\n",
       "    .dataframe thead th {\n",
       "        text-align: right;\n",
       "    }\n",
       "</style>\n",
       "<table border=\"1\" class=\"dataframe\">\n",
       "  <thead>\n",
       "    <tr style=\"text-align: right;\">\n",
       "      <th></th>\n",
       "      <th>KNN Algorithms</th>\n",
       "      <th>Average RMSE</th>\n",
       "      <th>Average MAE</th>\n",
       "    </tr>\n",
       "  </thead>\n",
       "  <tbody>\n",
       "    <tr>\n",
       "      <th>2</th>\n",
       "      <td>KNNBaseline</td>\n",
       "      <td>0.895649</td>\n",
       "      <td>0.685459</td>\n",
       "    </tr>\n",
       "    <tr>\n",
       "      <th>1</th>\n",
       "      <td>KNNWithMeans</td>\n",
       "      <td>0.919063</td>\n",
       "      <td>0.703458</td>\n",
       "    </tr>\n",
       "    <tr>\n",
       "      <th>0</th>\n",
       "      <td>KNNBasic</td>\n",
       "      <td>0.968752</td>\n",
       "      <td>0.744584</td>\n",
       "    </tr>\n",
       "  </tbody>\n",
       "</table>\n",
       "</div>"
      ],
      "text/plain": [
       "  KNN Algorithms  Average RMSE  Average MAE\n",
       "2    KNNBaseline      0.895649     0.685459\n",
       "1   KNNWithMeans      0.919063     0.703458\n",
       "0       KNNBasic      0.968752     0.744584"
      ]
     },
     "execution_count": 19,
     "metadata": {},
     "output_type": "execute_result"
    }
   ],
   "source": [
    "models = pd.DataFrame({\n",
    "    'KNN Algorithms': ['KNNBasic', 'KNNWithMeans', 'KNNBaseline'],\n",
    "    'Average RMSE': [crossval_userb_kbc['test_rmse'].mean(), crossval_userb_kwm['test_rmse'].mean(), crossval_userb_kbl['test_rmse'].mean()],\n",
    "'Average MAE': [crossval_userb_kbc['test_mae'].mean(), crossval_userb_kwm['test_mae'].mean(), crossval_userb_kbl['test_mae'].mean()]})\n",
    "models.sort_values(by='Average RMSE', ascending=True)"
   ]
  },
  {
   "cell_type": "markdown",
   "id": "53f99ab7",
   "metadata": {
    "papermill": {
     "duration": 0.012736,
     "end_time": "2022-11-22T03:29:59.623287",
     "exception": false,
     "start_time": "2022-11-22T03:29:59.610551",
     "status": "completed"
    },
    "tags": []
   },
   "source": [
    "# RMSE and MAE for Item based collaborative filtering"
   ]
  },
  {
   "cell_type": "markdown",
   "id": "4d486d6f",
   "metadata": {
    "papermill": {
     "duration": 0.012866,
     "end_time": "2022-11-22T03:29:59.649688",
     "exception": false,
     "start_time": "2022-11-22T03:29:59.636822",
     "status": "completed"
    },
    "tags": []
   },
   "source": [
    "***KNNBasic***"
   ]
  },
  {
   "cell_type": "code",
   "execution_count": 20,
   "id": "b1ecf987",
   "metadata": {
    "execution": {
     "iopub.execute_input": "2022-11-22T03:29:59.678188Z",
     "iopub.status.busy": "2022-11-22T03:29:59.676772Z",
     "iopub.status.idle": "2022-11-22T03:30:54.963810Z",
     "shell.execute_reply": "2022-11-22T03:30:54.962297Z"
    },
    "papermill": {
     "duration": 55.304037,
     "end_time": "2022-11-22T03:30:54.966673",
     "exception": false,
     "start_time": "2022-11-22T03:29:59.662636",
     "status": "completed"
    },
    "tags": []
   },
   "outputs": [
    {
     "name": "stdout",
     "output_type": "stream",
     "text": [
      "Computing the msd similarity matrix...\n",
      "Done computing similarity matrix.\n",
      "Computing the msd similarity matrix...\n",
      "Done computing similarity matrix.\n",
      "Computing the msd similarity matrix...\n",
      "Done computing similarity matrix.\n",
      "Computing the msd similarity matrix...\n",
      "Done computing similarity matrix.\n",
      "Computing the msd similarity matrix...\n",
      "Done computing similarity matrix.\n",
      "Evaluating RMSE, MAE of algorithm KNNBasic on 5 split(s).\n",
      "\n",
      "                  Fold 1  Fold 2  Fold 3  Fold 4  Fold 5  Mean    Std     \n",
      "RMSE (testset)    0.9338  0.9288  0.9413  0.9387  0.9325  0.9350  0.0045  \n",
      "MAE (testset)     0.7192  0.7182  0.7258  0.7243  0.7201  0.7215  0.0030  \n",
      "Fit time          3.94    3.95    3.89    3.91    3.93    3.92    0.02    \n",
      "Test time         6.91    6.97    6.79    7.06    6.97    6.94    0.09    \n"
     ]
    }
   ],
   "source": [
    "sim_param = {'user_based': False}\n",
    "algo_itemb = KNNBasic(sim_options=sim_param)\n",
    "crossval_itemb_kbc = cross_validate(algo_itemb, ratings, measures=['RMSE', 'MAE'], cv=5, verbose=True)"
   ]
  },
  {
   "cell_type": "code",
   "execution_count": 21,
   "id": "9e5d843d",
   "metadata": {
    "execution": {
     "iopub.execute_input": "2022-11-22T03:30:54.997043Z",
     "iopub.status.busy": "2022-11-22T03:30:54.995768Z",
     "iopub.status.idle": "2022-11-22T03:30:55.003361Z",
     "shell.execute_reply": "2022-11-22T03:30:55.002305Z"
    },
    "papermill": {
     "duration": 0.024668,
     "end_time": "2022-11-22T03:30:55.005349",
     "exception": false,
     "start_time": "2022-11-22T03:30:54.980681",
     "status": "completed"
    },
    "tags": []
   },
   "outputs": [
    {
     "data": {
      "text/plain": [
       "{'test_rmse': array([0.93383776, 0.92880977, 0.94134875, 0.93871599, 0.93245359]),\n",
       " 'test_mae': array([0.71918483, 0.71821386, 0.72576394, 0.72427597, 0.72011793]),\n",
       " 'fit_time': (3.938331365585327,\n",
       "  3.947392225265503,\n",
       "  3.88936185836792,\n",
       "  3.91257905960083,\n",
       "  3.9294052124023438),\n",
       " 'test_time': (6.9083569049835205,\n",
       "  6.966185569763184,\n",
       "  6.78630518913269,\n",
       "  7.055160760879517,\n",
       "  6.972387075424194)}"
      ]
     },
     "execution_count": 21,
     "metadata": {},
     "output_type": "execute_result"
    }
   ],
   "source": [
    "crossval_itemb_kbc"
   ]
  },
  {
   "cell_type": "code",
   "execution_count": 22,
   "id": "829f861a",
   "metadata": {
    "execution": {
     "iopub.execute_input": "2022-11-22T03:30:55.036004Z",
     "iopub.status.busy": "2022-11-22T03:30:55.035428Z",
     "iopub.status.idle": "2022-11-22T03:30:55.041701Z",
     "shell.execute_reply": "2022-11-22T03:30:55.040448Z"
    },
    "papermill": {
     "duration": 0.024551,
     "end_time": "2022-11-22T03:30:55.044485",
     "exception": false,
     "start_time": "2022-11-22T03:30:55.019934",
     "status": "completed"
    },
    "tags": []
   },
   "outputs": [
    {
     "name": "stdout",
     "output_type": "stream",
     "text": [
      "Average RMSE from KNNBasic Algorithm for Item based collaborative filtering:  0.9350331719119607\n",
      "Average MAE from KNNBasic Algorithm for Item based collaborative filtering:  0.7215113064362205\n"
     ]
    }
   ],
   "source": [
    "print(\"Average RMSE from KNNBasic Algorithm for Item based collaborative filtering: \", crossval_itemb_kbc['test_rmse'].mean())\n",
    "print(\"Average MAE from KNNBasic Algorithm for Item based collaborative filtering: \", crossval_itemb_kbc['test_mae'].mean())"
   ]
  },
  {
   "cell_type": "markdown",
   "id": "4cadb07c",
   "metadata": {
    "papermill": {
     "duration": 0.013304,
     "end_time": "2022-11-22T03:30:55.072287",
     "exception": false,
     "start_time": "2022-11-22T03:30:55.058983",
     "status": "completed"
    },
    "tags": []
   },
   "source": [
    "***KNNWithMeans***"
   ]
  },
  {
   "cell_type": "code",
   "execution_count": 23,
   "id": "40662c3f",
   "metadata": {
    "execution": {
     "iopub.execute_input": "2022-11-22T03:30:55.101795Z",
     "iopub.status.busy": "2022-11-22T03:30:55.101492Z",
     "iopub.status.idle": "2022-11-22T03:31:50.643793Z",
     "shell.execute_reply": "2022-11-22T03:31:50.642952Z"
    },
    "papermill": {
     "duration": 55.559381,
     "end_time": "2022-11-22T03:31:50.645721",
     "exception": false,
     "start_time": "2022-11-22T03:30:55.086340",
     "status": "completed"
    },
    "tags": []
   },
   "outputs": [
    {
     "name": "stdout",
     "output_type": "stream",
     "text": [
      "Computing the msd similarity matrix...\n",
      "Done computing similarity matrix.\n",
      "Computing the msd similarity matrix...\n",
      "Done computing similarity matrix.\n",
      "Computing the msd similarity matrix...\n",
      "Done computing similarity matrix.\n",
      "Computing the msd similarity matrix...\n",
      "Done computing similarity matrix.\n",
      "Computing the msd similarity matrix...\n",
      "Done computing similarity matrix.\n",
      "Evaluating RMSE, MAE of algorithm KNNWithMeans on 5 split(s).\n",
      "\n",
      "                  Fold 1  Fold 2  Fold 3  Fold 4  Fold 5  Mean    Std     \n",
      "RMSE (testset)    0.8999  0.9134  0.9149  0.9154  0.9264  0.9140  0.0084  \n",
      "MAE (testset)     0.6906  0.7004  0.6985  0.7045  0.7079  0.7004  0.0059  \n",
      "Fit time          3.90    3.94    4.01    4.06    4.08    4.00    0.07    \n",
      "Test time         6.89    6.91    6.89    7.07    6.88    6.93    0.07    \n"
     ]
    }
   ],
   "source": [
    "sim_param = {'user_based': False}\n",
    "algo_itemb = KNNWithMeans(sim_options=sim_param)\n",
    "crossval_itemb_kwm = cross_validate(algo_itemb, ratings, measures=['RMSE', 'MAE'], cv=5, verbose=True)"
   ]
  },
  {
   "cell_type": "code",
   "execution_count": 24,
   "id": "20ece256",
   "metadata": {
    "execution": {
     "iopub.execute_input": "2022-11-22T03:31:50.675440Z",
     "iopub.status.busy": "2022-11-22T03:31:50.675122Z",
     "iopub.status.idle": "2022-11-22T03:31:50.683309Z",
     "shell.execute_reply": "2022-11-22T03:31:50.681779Z"
    },
    "papermill": {
     "duration": 0.025498,
     "end_time": "2022-11-22T03:31:50.685297",
     "exception": false,
     "start_time": "2022-11-22T03:31:50.659799",
     "status": "completed"
    },
    "tags": []
   },
   "outputs": [
    {
     "data": {
      "text/plain": [
       "{'test_rmse': array([0.89992677, 0.91342133, 0.91487761, 0.91537452, 0.92635774]),\n",
       " 'test_mae': array([0.69064103, 0.70037606, 0.69847341, 0.70451951, 0.70792594]),\n",
       " 'fit_time': (3.8954548835754395,\n",
       "  3.9412331581115723,\n",
       "  4.005200147628784,\n",
       "  4.058505296707153,\n",
       "  4.084479808807373),\n",
       " 'test_time': (6.891960859298706,\n",
       "  6.914743900299072,\n",
       "  6.893267393112183,\n",
       "  7.07367205619812,\n",
       "  6.876420974731445)}"
      ]
     },
     "execution_count": 24,
     "metadata": {},
     "output_type": "execute_result"
    }
   ],
   "source": [
    "crossval_itemb_kwm"
   ]
  },
  {
   "cell_type": "code",
   "execution_count": 25,
   "id": "adc61b9c",
   "metadata": {
    "execution": {
     "iopub.execute_input": "2022-11-22T03:31:50.714664Z",
     "iopub.status.busy": "2022-11-22T03:31:50.714375Z",
     "iopub.status.idle": "2022-11-22T03:31:50.720228Z",
     "shell.execute_reply": "2022-11-22T03:31:50.718926Z"
    },
    "papermill": {
     "duration": 0.022636,
     "end_time": "2022-11-22T03:31:50.721880",
     "exception": false,
     "start_time": "2022-11-22T03:31:50.699244",
     "status": "completed"
    },
    "tags": []
   },
   "outputs": [
    {
     "name": "stdout",
     "output_type": "stream",
     "text": [
      "Average RMSE from KNNWithMeans Algorithm for Item based collaborative filtering:  0.9139915930723197\n",
      "Average MAE from KNNWithMeans Algorithm for Item based collaborative filtering:  0.7003871894103304\n"
     ]
    }
   ],
   "source": [
    "print(\"Average RMSE from KNNWithMeans Algorithm for Item based collaborative filtering: \", crossval_itemb_kwm['test_rmse'].mean())\n",
    "print(\"Average MAE from KNNWithMeans Algorithm for Item based collaborative filtering: \", crossval_itemb_kwm['test_mae'].mean())"
   ]
  },
  {
   "cell_type": "markdown",
   "id": "6dfe84a9",
   "metadata": {
    "papermill": {
     "duration": 0.013457,
     "end_time": "2022-11-22T03:31:50.749256",
     "exception": false,
     "start_time": "2022-11-22T03:31:50.735799",
     "status": "completed"
    },
    "tags": []
   },
   "source": [
    "***KNNBaseline***"
   ]
  },
  {
   "cell_type": "code",
   "execution_count": 26,
   "id": "8f7a640c",
   "metadata": {
    "execution": {
     "iopub.execute_input": "2022-11-22T03:31:50.778303Z",
     "iopub.status.busy": "2022-11-22T03:31:50.778005Z",
     "iopub.status.idle": "2022-11-22T03:32:49.276332Z",
     "shell.execute_reply": "2022-11-22T03:32:49.274664Z"
    },
    "papermill": {
     "duration": 58.516012,
     "end_time": "2022-11-22T03:32:49.278789",
     "exception": false,
     "start_time": "2022-11-22T03:31:50.762777",
     "status": "completed"
    },
    "tags": []
   },
   "outputs": [
    {
     "name": "stdout",
     "output_type": "stream",
     "text": [
      "Estimating biases using als...\n",
      "Computing the msd similarity matrix...\n",
      "Done computing similarity matrix.\n",
      "Estimating biases using als...\n",
      "Computing the msd similarity matrix...\n",
      "Done computing similarity matrix.\n",
      "Estimating biases using als...\n",
      "Computing the msd similarity matrix...\n",
      "Done computing similarity matrix.\n",
      "Estimating biases using als...\n",
      "Computing the msd similarity matrix...\n",
      "Done computing similarity matrix.\n",
      "Estimating biases using als...\n",
      "Computing the msd similarity matrix...\n",
      "Done computing similarity matrix.\n",
      "Evaluating RMSE, MAE of algorithm KNNBaseline on 5 split(s).\n",
      "\n",
      "                  Fold 1  Fold 2  Fold 3  Fold 4  Fold 5  Mean    Std     \n",
      "RMSE (testset)    0.8840  0.8844  0.8922  0.8864  0.8937  0.8881  0.0040  \n",
      "MAE (testset)     0.6797  0.6752  0.6847  0.6811  0.6872  0.6816  0.0041  \n",
      "Fit time          4.18    4.17    4.25    4.27    4.29    4.23    0.05    \n",
      "Test time         7.10    7.20    7.24    7.43    7.33    7.26    0.11    \n"
     ]
    }
   ],
   "source": [
    "sim_param = {'user_based': False}\n",
    "algo_itemb = KNNBaseline(sim_options=sim_param)\n",
    "crossval_itemb_kbl = cross_validate(algo_itemb, ratings, measures=['RMSE', 'MAE'], cv=5, verbose=True)"
   ]
  },
  {
   "cell_type": "code",
   "execution_count": 27,
   "id": "c0481f5b",
   "metadata": {
    "execution": {
     "iopub.execute_input": "2022-11-22T03:32:49.311875Z",
     "iopub.status.busy": "2022-11-22T03:32:49.311525Z",
     "iopub.status.idle": "2022-11-22T03:32:49.318665Z",
     "shell.execute_reply": "2022-11-22T03:32:49.317783Z"
    },
    "papermill": {
     "duration": 0.026122,
     "end_time": "2022-11-22T03:32:49.320453",
     "exception": false,
     "start_time": "2022-11-22T03:32:49.294331",
     "status": "completed"
    },
    "tags": []
   },
   "outputs": [
    {
     "data": {
      "text/plain": [
       "{'test_rmse': array([0.88402029, 0.88437249, 0.89215529, 0.88640894, 0.89367051]),\n",
       " 'test_mae': array([0.67969516, 0.67517541, 0.68465182, 0.6810828 , 0.68721194]),\n",
       " 'fit_time': (4.176685333251953,\n",
       "  4.172595977783203,\n",
       "  4.249802350997925,\n",
       "  4.2675933837890625,\n",
       "  4.287362098693848),\n",
       " 'test_time': (7.0984578132629395,\n",
       "  7.204012870788574,\n",
       "  7.240664720535278,\n",
       "  7.430821657180786,\n",
       "  7.3308563232421875)}"
      ]
     },
     "execution_count": 27,
     "metadata": {},
     "output_type": "execute_result"
    }
   ],
   "source": [
    "crossval_itemb_kbl"
   ]
  },
  {
   "cell_type": "code",
   "execution_count": 28,
   "id": "1c90d1e6",
   "metadata": {
    "execution": {
     "iopub.execute_input": "2022-11-22T03:32:49.352796Z",
     "iopub.status.busy": "2022-11-22T03:32:49.352240Z",
     "iopub.status.idle": "2022-11-22T03:32:49.358115Z",
     "shell.execute_reply": "2022-11-22T03:32:49.356596Z"
    },
    "papermill": {
     "duration": 0.023801,
     "end_time": "2022-11-22T03:32:49.359842",
     "exception": false,
     "start_time": "2022-11-22T03:32:49.336041",
     "status": "completed"
    },
    "tags": []
   },
   "outputs": [
    {
     "name": "stdout",
     "output_type": "stream",
     "text": [
      "Average RMSE from KNNBaseline Algorithm for Item based collaborative filtering:  0.888125504393811\n",
      "Average MAE from KNNBaseline Algorithm for Item based collaborative filtering:  0.6815634266948896\n"
     ]
    }
   ],
   "source": [
    "print(\"Average RMSE from KNNBaseline Algorithm for Item based collaborative filtering: \", crossval_itemb_kbl['test_rmse'].mean())\n",
    "print(\"Average MAE from KNNBaseline Algorithm for Item based collaborative filtering: \", crossval_itemb_kbl['test_mae'].mean())"
   ]
  },
  {
   "cell_type": "markdown",
   "id": "15f24a06",
   "metadata": {
    "papermill": {
     "duration": 0.014461,
     "end_time": "2022-11-22T03:32:49.389083",
     "exception": false,
     "start_time": "2022-11-22T03:32:49.374622",
     "status": "completed"
    },
    "tags": []
   },
   "source": [
    "****Minimum RMSE and MAE for Item based Collaborative filtering****"
   ]
  },
  {
   "cell_type": "code",
   "execution_count": 29,
   "id": "ebe6b50c",
   "metadata": {
    "execution": {
     "iopub.execute_input": "2022-11-22T03:32:49.420723Z",
     "iopub.status.busy": "2022-11-22T03:32:49.420401Z",
     "iopub.status.idle": "2022-11-22T03:32:49.433254Z",
     "shell.execute_reply": "2022-11-22T03:32:49.432261Z"
    },
    "papermill": {
     "duration": 0.031684,
     "end_time": "2022-11-22T03:32:49.435563",
     "exception": false,
     "start_time": "2022-11-22T03:32:49.403879",
     "status": "completed"
    },
    "tags": []
   },
   "outputs": [
    {
     "data": {
      "text/html": [
       "<div>\n",
       "<style scoped>\n",
       "    .dataframe tbody tr th:only-of-type {\n",
       "        vertical-align: middle;\n",
       "    }\n",
       "\n",
       "    .dataframe tbody tr th {\n",
       "        vertical-align: top;\n",
       "    }\n",
       "\n",
       "    .dataframe thead th {\n",
       "        text-align: right;\n",
       "    }\n",
       "</style>\n",
       "<table border=\"1\" class=\"dataframe\">\n",
       "  <thead>\n",
       "    <tr style=\"text-align: right;\">\n",
       "      <th></th>\n",
       "      <th>KNN algorithms</th>\n",
       "      <th>Average RMSE</th>\n",
       "      <th>Average MAE</th>\n",
       "    </tr>\n",
       "  </thead>\n",
       "  <tbody>\n",
       "    <tr>\n",
       "      <th>2</th>\n",
       "      <td>KNNBaseline</td>\n",
       "      <td>0.888126</td>\n",
       "      <td>0.681563</td>\n",
       "    </tr>\n",
       "    <tr>\n",
       "      <th>1</th>\n",
       "      <td>KNNWithMeans</td>\n",
       "      <td>0.913992</td>\n",
       "      <td>0.700387</td>\n",
       "    </tr>\n",
       "    <tr>\n",
       "      <th>0</th>\n",
       "      <td>KNNBasic</td>\n",
       "      <td>0.935033</td>\n",
       "      <td>0.721511</td>\n",
       "    </tr>\n",
       "  </tbody>\n",
       "</table>\n",
       "</div>"
      ],
      "text/plain": [
       "  KNN algorithms  Average RMSE  Average MAE\n",
       "2    KNNBaseline      0.888126     0.681563\n",
       "1   KNNWithMeans      0.913992     0.700387\n",
       "0       KNNBasic      0.935033     0.721511"
      ]
     },
     "execution_count": 29,
     "metadata": {},
     "output_type": "execute_result"
    }
   ],
   "source": [
    "models = pd.DataFrame({\n",
    "    'KNN algorithms': ['KNNBasic', 'KNNWithMeans', 'KNNBaseline'],\n",
    "    'Average RMSE': [crossval_itemb_kbc['test_rmse'].mean(), crossval_itemb_kwm['test_rmse'].mean(), crossval_itemb_kbl['test_rmse'].mean()],\n",
    "'Average MAE': [crossval_itemb_kbc['test_mae'].mean(), crossval_itemb_kwm['test_mae'].mean(), crossval_itemb_kbl['test_mae'].mean()]})\n",
    "models.sort_values(by='Average RMSE', ascending=True)"
   ]
  },
  {
   "cell_type": "markdown",
   "id": "4d785503",
   "metadata": {
    "papermill": {
     "duration": 0.015504,
     "end_time": "2022-11-22T03:32:49.466821",
     "exception": false,
     "start_time": "2022-11-22T03:32:49.451317",
     "status": "completed"
    },
    "tags": []
   },
   "source": [
    "**AVERAGE RMSE AND MAE FOR PMF, USER BASED AND ITEM BASED COLLABORATIVE FILTERING**"
   ]
  },
  {
   "cell_type": "code",
   "execution_count": 30,
   "id": "7d28b203",
   "metadata": {
    "execution": {
     "iopub.execute_input": "2022-11-22T03:32:49.500133Z",
     "iopub.status.busy": "2022-11-22T03:32:49.498910Z",
     "iopub.status.idle": "2022-11-22T03:32:49.514586Z",
     "shell.execute_reply": "2022-11-22T03:32:49.513315Z"
    },
    "papermill": {
     "duration": 0.033663,
     "end_time": "2022-11-22T03:32:49.516465",
     "exception": false,
     "start_time": "2022-11-22T03:32:49.482802",
     "status": "completed"
    },
    "tags": []
   },
   "outputs": [
    {
     "data": {
      "text/html": [
       "<div>\n",
       "<style scoped>\n",
       "    .dataframe tbody tr th:only-of-type {\n",
       "        vertical-align: middle;\n",
       "    }\n",
       "\n",
       "    .dataframe tbody tr th {\n",
       "        vertical-align: top;\n",
       "    }\n",
       "\n",
       "    .dataframe thead th {\n",
       "        text-align: right;\n",
       "    }\n",
       "</style>\n",
       "<table border=\"1\" class=\"dataframe\">\n",
       "  <thead>\n",
       "    <tr style=\"text-align: right;\">\n",
       "      <th></th>\n",
       "      <th>Filtering</th>\n",
       "      <th>Average RMSE</th>\n",
       "      <th>Average MAE</th>\n",
       "    </tr>\n",
       "  </thead>\n",
       "  <tbody>\n",
       "    <tr>\n",
       "      <th>2</th>\n",
       "      <td>Item Based</td>\n",
       "      <td>0.888126</td>\n",
       "      <td>0.681563</td>\n",
       "    </tr>\n",
       "    <tr>\n",
       "      <th>1</th>\n",
       "      <td>User Based</td>\n",
       "      <td>0.895649</td>\n",
       "      <td>0.685459</td>\n",
       "    </tr>\n",
       "    <tr>\n",
       "      <th>0</th>\n",
       "      <td>PMF</td>\n",
       "      <td>1.010912</td>\n",
       "      <td>0.779991</td>\n",
       "    </tr>\n",
       "  </tbody>\n",
       "</table>\n",
       "</div>"
      ],
      "text/plain": [
       "    Filtering  Average RMSE  Average MAE\n",
       "2  Item Based      0.888126     0.681563\n",
       "1  User Based      0.895649     0.685459\n",
       "0         PMF      1.010912     0.779991"
      ]
     },
     "execution_count": 30,
     "metadata": {},
     "output_type": "execute_result"
    }
   ],
   "source": [
    "models = pd.DataFrame({\n",
    "    'Filtering': ['PMF', 'User Based', 'Item Based'],\n",
    "    'Average RMSE': [crossval_pmf['test_rmse'].mean(), crossval_userb_kbl['test_rmse'].mean(), crossval_itemb_kbl['test_rmse'].mean()],\n",
    " 'Average MAE': [crossval_pmf['test_mae'].mean(), crossval_userb_kbl['test_mae'].mean(), crossval_itemb_kbl['test_mae'].mean()]})\n",
    "models.sort_values(by='Average RMSE', ascending=True)"
   ]
  },
  {
   "cell_type": "markdown",
   "id": "54741108",
   "metadata": {
    "papermill": {
     "duration": 0.015096,
     "end_time": "2022-11-22T03:32:49.547143",
     "exception": false,
     "start_time": "2022-11-22T03:32:49.532047",
     "status": "completed"
    },
    "tags": []
   },
   "source": [
    "# Comparing Similarity Metrics"
   ]
  },
  {
   "cell_type": "code",
   "execution_count": 31,
   "id": "3108040e",
   "metadata": {
    "execution": {
     "iopub.execute_input": "2022-11-22T03:32:49.580655Z",
     "iopub.status.busy": "2022-11-22T03:32:49.579371Z",
     "iopub.status.idle": "2022-11-22T03:38:45.379314Z",
     "shell.execute_reply": "2022-11-22T03:38:45.377941Z"
    },
    "papermill": {
     "duration": 355.818916,
     "end_time": "2022-11-22T03:38:45.381714",
     "exception": false,
     "start_time": "2022-11-22T03:32:49.562798",
     "status": "completed"
    },
    "tags": []
   },
   "outputs": [
    {
     "name": "stdout",
     "output_type": "stream",
     "text": [
      "Estimating biases using als...\n",
      "Computing the cosine similarity matrix...\n",
      "Done computing similarity matrix.\n",
      "Estimating biases using als...\n",
      "Computing the cosine similarity matrix...\n",
      "Done computing similarity matrix.\n",
      "Estimating biases using als...\n",
      "Computing the cosine similarity matrix...\n",
      "Done computing similarity matrix.\n",
      "Estimating biases using als...\n",
      "Computing the cosine similarity matrix...\n",
      "Done computing similarity matrix.\n",
      "Estimating biases using als...\n",
      "Computing the cosine similarity matrix...\n",
      "Done computing similarity matrix.\n",
      "Estimating biases using als...\n",
      "Computing the msd similarity matrix...\n",
      "Done computing similarity matrix.\n",
      "Estimating biases using als...\n",
      "Computing the msd similarity matrix...\n",
      "Done computing similarity matrix.\n",
      "Estimating biases using als...\n",
      "Computing the msd similarity matrix...\n",
      "Done computing similarity matrix.\n",
      "Estimating biases using als...\n",
      "Computing the msd similarity matrix...\n",
      "Done computing similarity matrix.\n",
      "Estimating biases using als...\n",
      "Computing the msd similarity matrix...\n",
      "Done computing similarity matrix.\n",
      "Estimating biases using als...\n",
      "Computing the pearson similarity matrix...\n",
      "Done computing similarity matrix.\n",
      "Estimating biases using als...\n",
      "Computing the pearson similarity matrix...\n",
      "Done computing similarity matrix.\n",
      "Estimating biases using als...\n",
      "Computing the pearson similarity matrix...\n",
      "Done computing similarity matrix.\n",
      "Estimating biases using als...\n",
      "Computing the pearson similarity matrix...\n",
      "Done computing similarity matrix.\n",
      "Estimating biases using als...\n",
      "Computing the pearson similarity matrix...\n",
      "Done computing similarity matrix.\n",
      "Estimating biases using als...\n",
      "Computing the cosine similarity matrix...\n",
      "Done computing similarity matrix.\n",
      "Estimating biases using als...\n",
      "Computing the cosine similarity matrix...\n",
      "Done computing similarity matrix.\n",
      "Estimating biases using als...\n",
      "Computing the cosine similarity matrix...\n",
      "Done computing similarity matrix.\n",
      "Estimating biases using als...\n",
      "Computing the cosine similarity matrix...\n",
      "Done computing similarity matrix.\n",
      "Estimating biases using als...\n",
      "Computing the cosine similarity matrix...\n",
      "Done computing similarity matrix.\n",
      "Estimating biases using als...\n",
      "Computing the msd similarity matrix...\n",
      "Done computing similarity matrix.\n",
      "Estimating biases using als...\n",
      "Computing the msd similarity matrix...\n",
      "Done computing similarity matrix.\n",
      "Estimating biases using als...\n",
      "Computing the msd similarity matrix...\n",
      "Done computing similarity matrix.\n",
      "Estimating biases using als...\n",
      "Computing the msd similarity matrix...\n",
      "Done computing similarity matrix.\n",
      "Estimating biases using als...\n",
      "Computing the msd similarity matrix...\n",
      "Done computing similarity matrix.\n",
      "Estimating biases using als...\n",
      "Computing the pearson similarity matrix...\n",
      "Done computing similarity matrix.\n",
      "Estimating biases using als...\n",
      "Computing the pearson similarity matrix...\n",
      "Done computing similarity matrix.\n",
      "Estimating biases using als...\n",
      "Computing the pearson similarity matrix...\n",
      "Done computing similarity matrix.\n",
      "Estimating biases using als...\n",
      "Computing the pearson similarity matrix...\n",
      "Done computing similarity matrix.\n",
      "Estimating biases using als...\n",
      "Computing the pearson similarity matrix...\n",
      "Done computing similarity matrix.\n"
     ]
    }
   ],
   "source": [
    "sim_metrics = []\n",
    "for KNN_algo in [KNNBaseline(sim_options = {'name':'cosine','user_based': True}), \n",
    "                 KNNBaseline(sim_options = {'name':'MSD', 'user_based':True }),\n",
    "                 KNNBaseline(sim_options = {'name':'pearson','user_based': True}),\n",
    "                 KNNBaseline(sim_options = {'name':'cosine', 'user_based':False }),\n",
    "                 KNNBaseline(sim_options = {'name':'MSD', 'user_based':False }),\n",
    "                 KNNBaseline(sim_options = {'name':'pearson','user_based': False}) \n",
    "                 ]:\n",
    "    crossval_sim = cross_validate(KNN_algo, ratings, measures=['RMSE', 'MAE'], cv=5, verbose=False)\n",
    "\n",
    "    metric_data = pd.DataFrame.from_dict(crossval_sim).mean(axis=0)\n",
    "    metric_data = metric_data.append(pd.Series([str(KNN_algo).split(' ')[0].split('.')[-1]], index=['Similarity Metrics']))\n",
    "    # store data\n",
    "    sim_metrics.append(metric_data)"
   ]
  },
  {
   "cell_type": "code",
   "execution_count": 32,
   "id": "6ef440eb",
   "metadata": {
    "execution": {
     "iopub.execute_input": "2022-11-22T03:38:45.424015Z",
     "iopub.status.busy": "2022-11-22T03:38:45.423509Z",
     "iopub.status.idle": "2022-11-22T03:38:45.439503Z",
     "shell.execute_reply": "2022-11-22T03:38:45.438445Z"
    },
    "papermill": {
     "duration": 0.038905,
     "end_time": "2022-11-22T03:38:45.441300",
     "exception": false,
     "start_time": "2022-11-22T03:38:45.402395",
     "status": "completed"
    },
    "tags": []
   },
   "outputs": [
    {
     "data": {
      "text/html": [
       "<div>\n",
       "<style scoped>\n",
       "    .dataframe tbody tr th:only-of-type {\n",
       "        vertical-align: middle;\n",
       "    }\n",
       "\n",
       "    .dataframe tbody tr th {\n",
       "        vertical-align: top;\n",
       "    }\n",
       "\n",
       "    .dataframe thead th {\n",
       "        text-align: right;\n",
       "    }\n",
       "</style>\n",
       "<table border=\"1\" class=\"dataframe\">\n",
       "  <thead>\n",
       "    <tr style=\"text-align: right;\">\n",
       "      <th></th>\n",
       "      <th>test_rmse</th>\n",
       "      <th>test_mae</th>\n",
       "      <th>fit_time</th>\n",
       "      <th>test_time</th>\n",
       "      <th>Similarity Metrics</th>\n",
       "    </tr>\n",
       "  </thead>\n",
       "  <tbody>\n",
       "    <tr>\n",
       "      <th>0</th>\n",
       "      <td>0.899909</td>\n",
       "      <td>0.690350</td>\n",
       "      <td>0.851961</td>\n",
       "      <td>1.867009</td>\n",
       "      <td>KNNBaseline</td>\n",
       "    </tr>\n",
       "    <tr>\n",
       "      <th>1</th>\n",
       "      <td>0.896176</td>\n",
       "      <td>0.686645</td>\n",
       "      <td>0.540664</td>\n",
       "      <td>1.895482</td>\n",
       "      <td>KNNBaseline</td>\n",
       "    </tr>\n",
       "    <tr>\n",
       "      <th>2</th>\n",
       "      <td>0.903420</td>\n",
       "      <td>0.690964</td>\n",
       "      <td>1.050106</td>\n",
       "      <td>1.810539</td>\n",
       "      <td>KNNBaseline</td>\n",
       "    </tr>\n",
       "    <tr>\n",
       "      <th>3</th>\n",
       "      <td>0.909558</td>\n",
       "      <td>0.702114</td>\n",
       "      <td>15.289653</td>\n",
       "      <td>7.111424</td>\n",
       "      <td>KNNBaseline</td>\n",
       "    </tr>\n",
       "    <tr>\n",
       "      <th>4</th>\n",
       "      <td>0.887873</td>\n",
       "      <td>0.681720</td>\n",
       "      <td>4.287916</td>\n",
       "      <td>7.243133</td>\n",
       "      <td>KNNBaseline</td>\n",
       "    </tr>\n",
       "    <tr>\n",
       "      <th>5</th>\n",
       "      <td>0.899538</td>\n",
       "      <td>0.691657</td>\n",
       "      <td>20.830561</td>\n",
       "      <td>7.124674</td>\n",
       "      <td>KNNBaseline</td>\n",
       "    </tr>\n",
       "  </tbody>\n",
       "</table>\n",
       "</div>"
      ],
      "text/plain": [
       "   test_rmse  test_mae   fit_time  test_time Similarity Metrics\n",
       "0   0.899909  0.690350   0.851961   1.867009        KNNBaseline\n",
       "1   0.896176  0.686645   0.540664   1.895482        KNNBaseline\n",
       "2   0.903420  0.690964   1.050106   1.810539        KNNBaseline\n",
       "3   0.909558  0.702114  15.289653   7.111424        KNNBaseline\n",
       "4   0.887873  0.681720   4.287916   7.243133        KNNBaseline\n",
       "5   0.899538  0.691657  20.830561   7.124674        KNNBaseline"
      ]
     },
     "execution_count": 32,
     "metadata": {},
     "output_type": "execute_result"
    }
   ],
   "source": [
    "sim_metrics = pd.DataFrame(sim_metrics)\n",
    "sim_metrics"
   ]
  },
  {
   "cell_type": "code",
   "execution_count": 33,
   "id": "aee6dd8a",
   "metadata": {
    "execution": {
     "iopub.execute_input": "2022-11-22T03:38:45.482601Z",
     "iopub.status.busy": "2022-11-22T03:38:45.482276Z",
     "iopub.status.idle": "2022-11-22T03:38:45.498219Z",
     "shell.execute_reply": "2022-11-22T03:38:45.496568Z"
    },
    "papermill": {
     "duration": 0.040041,
     "end_time": "2022-11-22T03:38:45.501120",
     "exception": false,
     "start_time": "2022-11-22T03:38:45.461079",
     "status": "completed"
    },
    "tags": []
   },
   "outputs": [
    {
     "data": {
      "text/html": [
       "<div>\n",
       "<style scoped>\n",
       "    .dataframe tbody tr th:only-of-type {\n",
       "        vertical-align: middle;\n",
       "    }\n",
       "\n",
       "    .dataframe tbody tr th {\n",
       "        vertical-align: top;\n",
       "    }\n",
       "\n",
       "    .dataframe thead th {\n",
       "        text-align: right;\n",
       "    }\n",
       "</style>\n",
       "<table border=\"1\" class=\"dataframe\">\n",
       "  <thead>\n",
       "    <tr style=\"text-align: right;\">\n",
       "      <th></th>\n",
       "      <th>test_rmse</th>\n",
       "      <th>test_mae</th>\n",
       "      <th>fit_time</th>\n",
       "      <th>test_time</th>\n",
       "    </tr>\n",
       "    <tr>\n",
       "      <th>Similarity Metrics</th>\n",
       "      <th></th>\n",
       "      <th></th>\n",
       "      <th></th>\n",
       "      <th></th>\n",
       "    </tr>\n",
       "  </thead>\n",
       "  <tbody>\n",
       "    <tr>\n",
       "      <th>MSD-ItemCF</th>\n",
       "      <td>0.887873</td>\n",
       "      <td>0.681720</td>\n",
       "      <td>4.287916</td>\n",
       "      <td>7.243133</td>\n",
       "    </tr>\n",
       "    <tr>\n",
       "      <th>MSD-UserCF</th>\n",
       "      <td>0.896176</td>\n",
       "      <td>0.686645</td>\n",
       "      <td>0.540664</td>\n",
       "      <td>1.895482</td>\n",
       "    </tr>\n",
       "    <tr>\n",
       "      <th>Pearson-ItemCF</th>\n",
       "      <td>0.899538</td>\n",
       "      <td>0.691657</td>\n",
       "      <td>20.830561</td>\n",
       "      <td>7.124674</td>\n",
       "    </tr>\n",
       "    <tr>\n",
       "      <th>Cosine-UserCF</th>\n",
       "      <td>0.899909</td>\n",
       "      <td>0.690350</td>\n",
       "      <td>0.851961</td>\n",
       "      <td>1.867009</td>\n",
       "    </tr>\n",
       "    <tr>\n",
       "      <th>Pearson-UserCF</th>\n",
       "      <td>0.903420</td>\n",
       "      <td>0.690964</td>\n",
       "      <td>1.050106</td>\n",
       "      <td>1.810539</td>\n",
       "    </tr>\n",
       "    <tr>\n",
       "      <th>Cosine-ItemCF</th>\n",
       "      <td>0.909558</td>\n",
       "      <td>0.702114</td>\n",
       "      <td>15.289653</td>\n",
       "      <td>7.111424</td>\n",
       "    </tr>\n",
       "  </tbody>\n",
       "</table>\n",
       "</div>"
      ],
      "text/plain": [
       "                    test_rmse  test_mae   fit_time  test_time\n",
       "Similarity Metrics                                           \n",
       "MSD-ItemCF           0.887873  0.681720   4.287916   7.243133\n",
       "MSD-UserCF           0.896176  0.686645   0.540664   1.895482\n",
       "Pearson-ItemCF       0.899538  0.691657  20.830561   7.124674\n",
       "Cosine-UserCF        0.899909  0.690350   0.851961   1.867009\n",
       "Pearson-UserCF       0.903420  0.690964   1.050106   1.810539\n",
       "Cosine-ItemCF        0.909558  0.702114  15.289653   7.111424"
      ]
     },
     "execution_count": 33,
     "metadata": {},
     "output_type": "execute_result"
    }
   ],
   "source": [
    "# udpate algorithm names \n",
    "metric_names = ['Cosine-UserCF','MSD-UserCF','Pearson-UserCF','Cosine-ItemCF','MSD-ItemCF','Pearson-ItemCF']\n",
    "sim_metrics['Similarity Metrics'] = metric_names\n",
    "\n",
    "# store results\n",
    "results = sim_metrics.set_index('Similarity Metrics').sort_values('test_rmse', ascending=True)\n",
    "results"
   ]
  },
  {
   "cell_type": "code",
   "execution_count": 34,
   "id": "0016ca5e",
   "metadata": {
    "execution": {
     "iopub.execute_input": "2022-11-22T03:38:45.542132Z",
     "iopub.status.busy": "2022-11-22T03:38:45.541792Z",
     "iopub.status.idle": "2022-11-22T03:38:45.550162Z",
     "shell.execute_reply": "2022-11-22T03:38:45.548829Z"
    },
    "papermill": {
     "duration": 0.03187,
     "end_time": "2022-11-22T03:38:45.552579",
     "exception": false,
     "start_time": "2022-11-22T03:38:45.520709",
     "status": "completed"
    },
    "tags": []
   },
   "outputs": [
    {
     "data": {
      "text/plain": [
       "Similarity Metrics\n",
       "MSD-ItemCF        0.887873\n",
       "MSD-UserCF        0.896176\n",
       "Pearson-ItemCF    0.899538\n",
       "Cosine-UserCF     0.899909\n",
       "Pearson-UserCF    0.903420\n",
       "Cosine-ItemCF     0.909558\n",
       "Name: test_rmse, dtype: float64"
      ]
     },
     "execution_count": 34,
     "metadata": {},
     "output_type": "execute_result"
    }
   ],
   "source": [
    "results['test_rmse']"
   ]
  },
  {
   "cell_type": "code",
   "execution_count": 35,
   "id": "3fdc9217",
   "metadata": {
    "execution": {
     "iopub.execute_input": "2022-11-22T03:38:45.593588Z",
     "iopub.status.busy": "2022-11-22T03:38:45.593288Z",
     "iopub.status.idle": "2022-11-22T03:38:45.952224Z",
     "shell.execute_reply": "2022-11-22T03:38:45.950431Z"
    },
    "papermill": {
     "duration": 0.382536,
     "end_time": "2022-11-22T03:38:45.954582",
     "exception": false,
     "start_time": "2022-11-22T03:38:45.572046",
     "status": "completed"
    },
    "tags": []
   },
   "outputs": [],
   "source": [
    "\n",
    "data = results[['test_rmse', 'test_mae']]\n",
    "grid = data.values\n",
    "\n",
    "# create axis labels\n",
    "x_axis = [label.split('_')[1].upper() for label in data.columns.tolist()]\n",
    "y_axis = data.index.tolist()\n",
    "\n",
    "x_label = 'Function'\n",
    "y_label = 'Algorithm'\n",
    "\n",
    "\n",
    "# get annotations and hovertext\n",
    "hovertexts = []\n",
    "annotations = []\n",
    "\n",
    "for i, y_value in enumerate(y_axis):\n",
    "    row = []\n",
    "    for j, x_value in enumerate(x_axis):\n",
    "        annotation = grid[i, j]\n",
    "        row.append('Error: {:.4f}{}: {} {}: {} Fit Time: {:.3f}s Test Time: {:.3f}s'.format(annotation, y_label, y_value ,x_label, x_value,results.loc[y_value]['fit_time'], results.loc[y_value]['test_time']))\n",
    "    annotations.append(dict(x=x_value, y=y_value, text='{:.4f}'.format(annotation), ax=0, ay=0, font=dict(color='#000001')))\n",
    "    hovertexts.append(row)\n",
    "\n",
    "# create trace\n",
    "trace = go.Heatmap(x = x_axis,\n",
    "                   y = y_axis,\n",
    "                   z = data.values,\n",
    "                   text = hovertexts,\n",
    "                   hoverinfo = 'text',\n",
    "                   colorscale = 'Picnic',\n",
    "                   colorbar = dict(title = 'Error'))\n",
    "\n",
    "# Create layout\n",
    "layout = go.Layout(title = 'Cross-validated Comparison of similarity metrics',\n",
    "                   xaxis = dict(title = x_label),\n",
    "                   yaxis = dict(title = y_label,\n",
    "                                tickangle = -20),\n",
    "                   annotations = annotations)\n",
    "\n",
    "# Create plot\n",
    "fig = go.Figure(data=[trace], layout=layout)"
   ]
  },
  {
   "cell_type": "code",
   "execution_count": 36,
   "id": "9aaa369e",
   "metadata": {
    "execution": {
     "iopub.execute_input": "2022-11-22T03:38:45.997279Z",
     "iopub.status.busy": "2022-11-22T03:38:45.996955Z",
     "iopub.status.idle": "2022-11-22T03:38:46.039761Z",
     "shell.execute_reply": "2022-11-22T03:38:46.038495Z"
    },
    "papermill": {
     "duration": 0.067467,
     "end_time": "2022-11-22T03:38:46.042206",
     "exception": false,
     "start_time": "2022-11-22T03:38:45.974739",
     "status": "completed"
    },
    "tags": []
   },
   "outputs": [
    {
     "data": {
      "text/html": [
       "        <script type=\"text/javascript\">\n",
       "        window.PlotlyConfig = {MathJaxConfig: 'local'};\n",
       "        if (window.MathJax && window.MathJax.Hub && window.MathJax.Hub.Config) {window.MathJax.Hub.Config({SVG: {font: \"STIX-Web\"}});}\n",
       "        if (typeof require !== 'undefined') {\n",
       "        require.undef(\"plotly\");\n",
       "        requirejs.config({\n",
       "            paths: {\n",
       "                'plotly': ['https://cdn.plot.ly/plotly-2.14.0.min']\n",
       "            }\n",
       "        });\n",
       "        require(['plotly'], function(Plotly) {\n",
       "            window._Plotly = Plotly;\n",
       "        });\n",
       "        }\n",
       "        </script>\n",
       "        "
      ]
     },
     "metadata": {},
     "output_type": "display_data"
    },
    {
     "data": {
      "text/html": [
       "<div>                            <div id=\"249cecef-c9a6-48df-aece-e495e8251a4d\" class=\"plotly-graph-div\" style=\"height:525px; width:100%;\"></div>            <script type=\"text/javascript\">                require([\"plotly\"], function(Plotly) {                    window.PLOTLYENV=window.PLOTLYENV || {};                                    if (document.getElementById(\"249cecef-c9a6-48df-aece-e495e8251a4d\")) {                    Plotly.newPlot(                        \"249cecef-c9a6-48df-aece-e495e8251a4d\",                        [{\"colorbar\":{\"title\":{\"text\":\"Error\"}},\"colorscale\":[[0.0,\"rgb(0,0,255)\"],[0.1,\"rgb(51,153,255)\"],[0.2,\"rgb(102,204,255)\"],[0.3,\"rgb(153,204,255)\"],[0.4,\"rgb(204,204,255)\"],[0.5,\"rgb(255,255,255)\"],[0.6,\"rgb(255,204,255)\"],[0.7,\"rgb(255,153,255)\"],[0.8,\"rgb(255,102,204)\"],[0.9,\"rgb(255,102,102)\"],[1.0,\"rgb(255,0,0)\"]],\"hoverinfo\":\"text\",\"text\":[[\"Error: 0.8879Algorithm: MSD-ItemCF Function: RMSE Fit Time: 4.288s Test Time: 7.243s\",\"Error: 0.6817Algorithm: MSD-ItemCF Function: MAE Fit Time: 4.288s Test Time: 7.243s\"],[\"Error: 0.8962Algorithm: MSD-UserCF Function: RMSE Fit Time: 0.541s Test Time: 1.895s\",\"Error: 0.6866Algorithm: MSD-UserCF Function: MAE Fit Time: 0.541s Test Time: 1.895s\"],[\"Error: 0.8995Algorithm: Pearson-ItemCF Function: RMSE Fit Time: 20.831s Test Time: 7.125s\",\"Error: 0.6917Algorithm: Pearson-ItemCF Function: MAE Fit Time: 20.831s Test Time: 7.125s\"],[\"Error: 0.8999Algorithm: Cosine-UserCF Function: RMSE Fit Time: 0.852s Test Time: 1.867s\",\"Error: 0.6904Algorithm: Cosine-UserCF Function: MAE Fit Time: 0.852s Test Time: 1.867s\"],[\"Error: 0.9034Algorithm: Pearson-UserCF Function: RMSE Fit Time: 1.050s Test Time: 1.811s\",\"Error: 0.6910Algorithm: Pearson-UserCF Function: MAE Fit Time: 1.050s Test Time: 1.811s\"],[\"Error: 0.9096Algorithm: Cosine-ItemCF Function: RMSE Fit Time: 15.290s Test Time: 7.111s\",\"Error: 0.7021Algorithm: Cosine-ItemCF Function: MAE Fit Time: 15.290s Test Time: 7.111s\"]],\"x\":[\"RMSE\",\"MAE\"],\"y\":[\"MSD-ItemCF\",\"MSD-UserCF\",\"Pearson-ItemCF\",\"Cosine-UserCF\",\"Pearson-UserCF\",\"Cosine-ItemCF\"],\"z\":[[0.8878729843328405,0.6817199280101408],[0.8961761045599388,0.686644556221385],[0.899537932110935,0.6916570169899796],[0.8999085845237109,0.6903502089101105],[0.9034198834184777,0.6909637291839344],[0.9095584294797959,0.7021144229462508]],\"type\":\"heatmap\"}],                        {\"annotations\":[{\"ax\":0,\"ay\":0,\"font\":{\"color\":\"#000001\"},\"text\":\"0.6817\",\"x\":\"MAE\",\"y\":\"MSD-ItemCF\"},{\"ax\":0,\"ay\":0,\"font\":{\"color\":\"#000001\"},\"text\":\"0.6866\",\"x\":\"MAE\",\"y\":\"MSD-UserCF\"},{\"ax\":0,\"ay\":0,\"font\":{\"color\":\"#000001\"},\"text\":\"0.6917\",\"x\":\"MAE\",\"y\":\"Pearson-ItemCF\"},{\"ax\":0,\"ay\":0,\"font\":{\"color\":\"#000001\"},\"text\":\"0.6904\",\"x\":\"MAE\",\"y\":\"Cosine-UserCF\"},{\"ax\":0,\"ay\":0,\"font\":{\"color\":\"#000001\"},\"text\":\"0.6910\",\"x\":\"MAE\",\"y\":\"Pearson-UserCF\"},{\"ax\":0,\"ay\":0,\"font\":{\"color\":\"#000001\"},\"text\":\"0.7021\",\"x\":\"MAE\",\"y\":\"Cosine-ItemCF\"}],\"title\":{\"text\":\"Cross-validated Comparison of similarity metrics\"},\"xaxis\":{\"title\":{\"text\":\"Function\"}},\"yaxis\":{\"tickangle\":-20,\"title\":{\"text\":\"Algorithm\"}},\"template\":{\"data\":{\"histogram2dcontour\":[{\"type\":\"histogram2dcontour\",\"colorbar\":{\"outlinewidth\":0,\"ticks\":\"\"},\"colorscale\":[[0.0,\"#0d0887\"],[0.1111111111111111,\"#46039f\"],[0.2222222222222222,\"#7201a8\"],[0.3333333333333333,\"#9c179e\"],[0.4444444444444444,\"#bd3786\"],[0.5555555555555556,\"#d8576b\"],[0.6666666666666666,\"#ed7953\"],[0.7777777777777778,\"#fb9f3a\"],[0.8888888888888888,\"#fdca26\"],[1.0,\"#f0f921\"]]}],\"choropleth\":[{\"type\":\"choropleth\",\"colorbar\":{\"outlinewidth\":0,\"ticks\":\"\"}}],\"histogram2d\":[{\"type\":\"histogram2d\",\"colorbar\":{\"outlinewidth\":0,\"ticks\":\"\"},\"colorscale\":[[0.0,\"#0d0887\"],[0.1111111111111111,\"#46039f\"],[0.2222222222222222,\"#7201a8\"],[0.3333333333333333,\"#9c179e\"],[0.4444444444444444,\"#bd3786\"],[0.5555555555555556,\"#d8576b\"],[0.6666666666666666,\"#ed7953\"],[0.7777777777777778,\"#fb9f3a\"],[0.8888888888888888,\"#fdca26\"],[1.0,\"#f0f921\"]]}],\"heatmap\":[{\"type\":\"heatmap\",\"colorbar\":{\"outlinewidth\":0,\"ticks\":\"\"},\"colorscale\":[[0.0,\"#0d0887\"],[0.1111111111111111,\"#46039f\"],[0.2222222222222222,\"#7201a8\"],[0.3333333333333333,\"#9c179e\"],[0.4444444444444444,\"#bd3786\"],[0.5555555555555556,\"#d8576b\"],[0.6666666666666666,\"#ed7953\"],[0.7777777777777778,\"#fb9f3a\"],[0.8888888888888888,\"#fdca26\"],[1.0,\"#f0f921\"]]}],\"heatmapgl\":[{\"type\":\"heatmapgl\",\"colorbar\":{\"outlinewidth\":0,\"ticks\":\"\"},\"colorscale\":[[0.0,\"#0d0887\"],[0.1111111111111111,\"#46039f\"],[0.2222222222222222,\"#7201a8\"],[0.3333333333333333,\"#9c179e\"],[0.4444444444444444,\"#bd3786\"],[0.5555555555555556,\"#d8576b\"],[0.6666666666666666,\"#ed7953\"],[0.7777777777777778,\"#fb9f3a\"],[0.8888888888888888,\"#fdca26\"],[1.0,\"#f0f921\"]]}],\"contourcarpet\":[{\"type\":\"contourcarpet\",\"colorbar\":{\"outlinewidth\":0,\"ticks\":\"\"}}],\"contour\":[{\"type\":\"contour\",\"colorbar\":{\"outlinewidth\":0,\"ticks\":\"\"},\"colorscale\":[[0.0,\"#0d0887\"],[0.1111111111111111,\"#46039f\"],[0.2222222222222222,\"#7201a8\"],[0.3333333333333333,\"#9c179e\"],[0.4444444444444444,\"#bd3786\"],[0.5555555555555556,\"#d8576b\"],[0.6666666666666666,\"#ed7953\"],[0.7777777777777778,\"#fb9f3a\"],[0.8888888888888888,\"#fdca26\"],[1.0,\"#f0f921\"]]}],\"surface\":[{\"type\":\"surface\",\"colorbar\":{\"outlinewidth\":0,\"ticks\":\"\"},\"colorscale\":[[0.0,\"#0d0887\"],[0.1111111111111111,\"#46039f\"],[0.2222222222222222,\"#7201a8\"],[0.3333333333333333,\"#9c179e\"],[0.4444444444444444,\"#bd3786\"],[0.5555555555555556,\"#d8576b\"],[0.6666666666666666,\"#ed7953\"],[0.7777777777777778,\"#fb9f3a\"],[0.8888888888888888,\"#fdca26\"],[1.0,\"#f0f921\"]]}],\"mesh3d\":[{\"type\":\"mesh3d\",\"colorbar\":{\"outlinewidth\":0,\"ticks\":\"\"}}],\"scatter\":[{\"fillpattern\":{\"fillmode\":\"overlay\",\"size\":10,\"solidity\":0.2},\"type\":\"scatter\"}],\"parcoords\":[{\"type\":\"parcoords\",\"line\":{\"colorbar\":{\"outlinewidth\":0,\"ticks\":\"\"}}}],\"scatterpolargl\":[{\"type\":\"scatterpolargl\",\"marker\":{\"colorbar\":{\"outlinewidth\":0,\"ticks\":\"\"}}}],\"bar\":[{\"error_x\":{\"color\":\"#2a3f5f\"},\"error_y\":{\"color\":\"#2a3f5f\"},\"marker\":{\"line\":{\"color\":\"#E5ECF6\",\"width\":0.5},\"pattern\":{\"fillmode\":\"overlay\",\"size\":10,\"solidity\":0.2}},\"type\":\"bar\"}],\"scattergeo\":[{\"type\":\"scattergeo\",\"marker\":{\"colorbar\":{\"outlinewidth\":0,\"ticks\":\"\"}}}],\"scatterpolar\":[{\"type\":\"scatterpolar\",\"marker\":{\"colorbar\":{\"outlinewidth\":0,\"ticks\":\"\"}}}],\"histogram\":[{\"marker\":{\"pattern\":{\"fillmode\":\"overlay\",\"size\":10,\"solidity\":0.2}},\"type\":\"histogram\"}],\"scattergl\":[{\"type\":\"scattergl\",\"marker\":{\"colorbar\":{\"outlinewidth\":0,\"ticks\":\"\"}}}],\"scatter3d\":[{\"type\":\"scatter3d\",\"line\":{\"colorbar\":{\"outlinewidth\":0,\"ticks\":\"\"}},\"marker\":{\"colorbar\":{\"outlinewidth\":0,\"ticks\":\"\"}}}],\"scattermapbox\":[{\"type\":\"scattermapbox\",\"marker\":{\"colorbar\":{\"outlinewidth\":0,\"ticks\":\"\"}}}],\"scatterternary\":[{\"type\":\"scatterternary\",\"marker\":{\"colorbar\":{\"outlinewidth\":0,\"ticks\":\"\"}}}],\"scattercarpet\":[{\"type\":\"scattercarpet\",\"marker\":{\"colorbar\":{\"outlinewidth\":0,\"ticks\":\"\"}}}],\"carpet\":[{\"aaxis\":{\"endlinecolor\":\"#2a3f5f\",\"gridcolor\":\"white\",\"linecolor\":\"white\",\"minorgridcolor\":\"white\",\"startlinecolor\":\"#2a3f5f\"},\"baxis\":{\"endlinecolor\":\"#2a3f5f\",\"gridcolor\":\"white\",\"linecolor\":\"white\",\"minorgridcolor\":\"white\",\"startlinecolor\":\"#2a3f5f\"},\"type\":\"carpet\"}],\"table\":[{\"cells\":{\"fill\":{\"color\":\"#EBF0F8\"},\"line\":{\"color\":\"white\"}},\"header\":{\"fill\":{\"color\":\"#C8D4E3\"},\"line\":{\"color\":\"white\"}},\"type\":\"table\"}],\"barpolar\":[{\"marker\":{\"line\":{\"color\":\"#E5ECF6\",\"width\":0.5},\"pattern\":{\"fillmode\":\"overlay\",\"size\":10,\"solidity\":0.2}},\"type\":\"barpolar\"}],\"pie\":[{\"automargin\":true,\"type\":\"pie\"}]},\"layout\":{\"autotypenumbers\":\"strict\",\"colorway\":[\"#636efa\",\"#EF553B\",\"#00cc96\",\"#ab63fa\",\"#FFA15A\",\"#19d3f3\",\"#FF6692\",\"#B6E880\",\"#FF97FF\",\"#FECB52\"],\"font\":{\"color\":\"#2a3f5f\"},\"hovermode\":\"closest\",\"hoverlabel\":{\"align\":\"left\"},\"paper_bgcolor\":\"white\",\"plot_bgcolor\":\"#E5ECF6\",\"polar\":{\"bgcolor\":\"#E5ECF6\",\"angularaxis\":{\"gridcolor\":\"white\",\"linecolor\":\"white\",\"ticks\":\"\"},\"radialaxis\":{\"gridcolor\":\"white\",\"linecolor\":\"white\",\"ticks\":\"\"}},\"ternary\":{\"bgcolor\":\"#E5ECF6\",\"aaxis\":{\"gridcolor\":\"white\",\"linecolor\":\"white\",\"ticks\":\"\"},\"baxis\":{\"gridcolor\":\"white\",\"linecolor\":\"white\",\"ticks\":\"\"},\"caxis\":{\"gridcolor\":\"white\",\"linecolor\":\"white\",\"ticks\":\"\"}},\"coloraxis\":{\"colorbar\":{\"outlinewidth\":0,\"ticks\":\"\"}},\"colorscale\":{\"sequential\":[[0.0,\"#0d0887\"],[0.1111111111111111,\"#46039f\"],[0.2222222222222222,\"#7201a8\"],[0.3333333333333333,\"#9c179e\"],[0.4444444444444444,\"#bd3786\"],[0.5555555555555556,\"#d8576b\"],[0.6666666666666666,\"#ed7953\"],[0.7777777777777778,\"#fb9f3a\"],[0.8888888888888888,\"#fdca26\"],[1.0,\"#f0f921\"]],\"sequentialminus\":[[0.0,\"#0d0887\"],[0.1111111111111111,\"#46039f\"],[0.2222222222222222,\"#7201a8\"],[0.3333333333333333,\"#9c179e\"],[0.4444444444444444,\"#bd3786\"],[0.5555555555555556,\"#d8576b\"],[0.6666666666666666,\"#ed7953\"],[0.7777777777777778,\"#fb9f3a\"],[0.8888888888888888,\"#fdca26\"],[1.0,\"#f0f921\"]],\"diverging\":[[0,\"#8e0152\"],[0.1,\"#c51b7d\"],[0.2,\"#de77ae\"],[0.3,\"#f1b6da\"],[0.4,\"#fde0ef\"],[0.5,\"#f7f7f7\"],[0.6,\"#e6f5d0\"],[0.7,\"#b8e186\"],[0.8,\"#7fbc41\"],[0.9,\"#4d9221\"],[1,\"#276419\"]]},\"xaxis\":{\"gridcolor\":\"white\",\"linecolor\":\"white\",\"ticks\":\"\",\"title\":{\"standoff\":15},\"zerolinecolor\":\"white\",\"automargin\":true,\"zerolinewidth\":2},\"yaxis\":{\"gridcolor\":\"white\",\"linecolor\":\"white\",\"ticks\":\"\",\"title\":{\"standoff\":15},\"zerolinecolor\":\"white\",\"automargin\":true,\"zerolinewidth\":2},\"scene\":{\"xaxis\":{\"backgroundcolor\":\"#E5ECF6\",\"gridcolor\":\"white\",\"linecolor\":\"white\",\"showbackground\":true,\"ticks\":\"\",\"zerolinecolor\":\"white\",\"gridwidth\":2},\"yaxis\":{\"backgroundcolor\":\"#E5ECF6\",\"gridcolor\":\"white\",\"linecolor\":\"white\",\"showbackground\":true,\"ticks\":\"\",\"zerolinecolor\":\"white\",\"gridwidth\":2},\"zaxis\":{\"backgroundcolor\":\"#E5ECF6\",\"gridcolor\":\"white\",\"linecolor\":\"white\",\"showbackground\":true,\"ticks\":\"\",\"zerolinecolor\":\"white\",\"gridwidth\":2}},\"shapedefaults\":{\"line\":{\"color\":\"#2a3f5f\"}},\"annotationdefaults\":{\"arrowcolor\":\"#2a3f5f\",\"arrowhead\":0,\"arrowwidth\":1},\"geo\":{\"bgcolor\":\"white\",\"landcolor\":\"#E5ECF6\",\"subunitcolor\":\"white\",\"showland\":true,\"showlakes\":true,\"lakecolor\":\"white\"},\"title\":{\"x\":0.05},\"mapbox\":{\"style\":\"light\"}}}},                        {\"responsive\": true}                    ).then(function(){\n",
       "                            \n",
       "var gd = document.getElementById('249cecef-c9a6-48df-aece-e495e8251a4d');\n",
       "var x = new MutationObserver(function (mutations, observer) {{\n",
       "        var display = window.getComputedStyle(gd).display;\n",
       "        if (!display || display === 'none') {{\n",
       "            console.log([gd, 'removed!']);\n",
       "            Plotly.purge(gd);\n",
       "            observer.disconnect();\n",
       "        }}\n",
       "}});\n",
       "\n",
       "// Listen for the removal of the full notebook cells\n",
       "var notebookContainer = gd.closest('#notebook-container');\n",
       "if (notebookContainer) {{\n",
       "    x.observe(notebookContainer, {childList: true});\n",
       "}}\n",
       "\n",
       "// Listen for the clearing of the current output cell\n",
       "var outputEl = gd.closest('.output');\n",
       "if (outputEl) {{\n",
       "    x.observe(outputEl, {childList: true});\n",
       "}}\n",
       "\n",
       "                        })                };                });            </script>        </div>"
      ]
     },
     "metadata": {},
     "output_type": "display_data"
    }
   ],
   "source": [
    "fig.show()"
   ]
  },
  {
   "cell_type": "markdown",
   "id": "05e236a2",
   "metadata": {
    "papermill": {
     "duration": 0.019233,
     "end_time": "2022-11-22T03:38:46.081618",
     "exception": false,
     "start_time": "2022-11-22T03:38:46.062385",
     "status": "completed"
    },
    "tags": []
   },
   "source": [
    "# Number of Neighbours impact"
   ]
  },
  {
   "cell_type": "code",
   "execution_count": 37,
   "id": "75c492df",
   "metadata": {
    "execution": {
     "iopub.execute_input": "2022-11-22T03:38:46.124580Z",
     "iopub.status.busy": "2022-11-22T03:38:46.124280Z",
     "iopub.status.idle": "2022-11-22T03:38:46.266439Z",
     "shell.execute_reply": "2022-11-22T03:38:46.264751Z"
    },
    "papermill": {
     "duration": 0.166351,
     "end_time": "2022-11-22T03:38:46.268849",
     "exception": false,
     "start_time": "2022-11-22T03:38:46.102498",
     "status": "completed"
    },
    "tags": []
   },
   "outputs": [],
   "source": [
    "train, test = train_test_split(ratings, test_size = 0.25, random_state = 40)"
   ]
  },
  {
   "cell_type": "markdown",
   "id": "778c2a18",
   "metadata": {
    "papermill": {
     "duration": 0.020946,
     "end_time": "2022-11-22T03:38:46.311390",
     "exception": false,
     "start_time": "2022-11-22T03:38:46.290444",
     "status": "completed"
    },
    "tags": []
   },
   "source": [
    "**User Based**"
   ]
  },
  {
   "cell_type": "code",
   "execution_count": 38,
   "id": "a3463380",
   "metadata": {
    "execution": {
     "iopub.execute_input": "2022-11-22T03:38:46.355237Z",
     "iopub.status.busy": "2022-11-22T03:38:46.354935Z",
     "iopub.status.idle": "2022-11-22T03:39:51.926002Z",
     "shell.execute_reply": "2022-11-22T03:39:51.924447Z"
    },
    "papermill": {
     "duration": 65.595919,
     "end_time": "2022-11-22T03:39:51.928669",
     "exception": false,
     "start_time": "2022-11-22T03:38:46.332750",
     "status": "completed"
    },
    "tags": []
   },
   "outputs": [
    {
     "name": "stdout",
     "output_type": "stream",
     "text": [
      "Estimating biases using als...\n",
      "Computing the msd similarity matrix...\n",
      "Done computing similarity matrix.\n",
      "MAE:  0.8685\n",
      "RMSE: 1.1326\n",
      "Estimating biases using als...\n",
      "Computing the msd similarity matrix...\n",
      "Done computing similarity matrix.\n",
      "MAE:  0.7801\n",
      "RMSE: 1.0123\n",
      "Estimating biases using als...\n",
      "Computing the msd similarity matrix...\n",
      "Done computing similarity matrix.\n",
      "MAE:  0.7443\n",
      "RMSE: 0.9663\n",
      "Estimating biases using als...\n",
      "Computing the msd similarity matrix...\n",
      "Done computing similarity matrix.\n",
      "MAE:  0.7274\n",
      "RMSE: 0.9446\n",
      "Estimating biases using als...\n",
      "Computing the msd similarity matrix...\n",
      "Done computing similarity matrix.\n",
      "MAE:  0.7181\n",
      "RMSE: 0.9328\n",
      "Estimating biases using als...\n",
      "Computing the msd similarity matrix...\n",
      "Done computing similarity matrix.\n",
      "MAE:  0.7114\n",
      "RMSE: 0.9246\n",
      "Estimating biases using als...\n",
      "Computing the msd similarity matrix...\n",
      "Done computing similarity matrix.\n",
      "MAE:  0.7059\n",
      "RMSE: 0.9186\n",
      "Estimating biases using als...\n",
      "Computing the msd similarity matrix...\n",
      "Done computing similarity matrix.\n",
      "MAE:  0.7022\n",
      "RMSE: 0.9138\n",
      "Estimating biases using als...\n",
      "Computing the msd similarity matrix...\n",
      "Done computing similarity matrix.\n",
      "MAE:  0.7001\n",
      "RMSE: 0.9113\n",
      "Estimating biases using als...\n",
      "Computing the msd similarity matrix...\n",
      "Done computing similarity matrix.\n",
      "MAE:  0.6977\n",
      "RMSE: 0.9086\n",
      "Estimating biases using als...\n",
      "Computing the msd similarity matrix...\n",
      "Done computing similarity matrix.\n",
      "MAE:  0.6957\n",
      "RMSE: 0.9066\n",
      "Estimating biases using als...\n",
      "Computing the msd similarity matrix...\n",
      "Done computing similarity matrix.\n",
      "MAE:  0.6949\n",
      "RMSE: 0.9053\n",
      "Estimating biases using als...\n",
      "Computing the msd similarity matrix...\n",
      "Done computing similarity matrix.\n",
      "MAE:  0.6941\n",
      "RMSE: 0.9043\n",
      "Estimating biases using als...\n",
      "Computing the msd similarity matrix...\n",
      "Done computing similarity matrix.\n",
      "MAE:  0.6934\n",
      "RMSE: 0.9036\n",
      "Estimating biases using als...\n",
      "Computing the msd similarity matrix...\n",
      "Done computing similarity matrix.\n",
      "MAE:  0.6928\n",
      "RMSE: 0.9028\n",
      "Estimating biases using als...\n",
      "Computing the msd similarity matrix...\n",
      "Done computing similarity matrix.\n",
      "MAE:  0.6920\n",
      "RMSE: 0.9021\n",
      "Estimating biases using als...\n",
      "Computing the msd similarity matrix...\n",
      "Done computing similarity matrix.\n",
      "MAE:  0.6914\n",
      "RMSE: 0.9012\n",
      "Estimating biases using als...\n",
      "Computing the msd similarity matrix...\n",
      "Done computing similarity matrix.\n",
      "MAE:  0.6912\n",
      "RMSE: 0.9010\n",
      "Estimating biases using als...\n",
      "Computing the msd similarity matrix...\n",
      "Done computing similarity matrix.\n",
      "MAE:  0.6906\n",
      "RMSE: 0.9005\n",
      "Estimating biases using als...\n",
      "Computing the msd similarity matrix...\n",
      "Done computing similarity matrix.\n",
      "MAE:  0.6903\n",
      "RMSE: 0.9003\n",
      "Estimating biases using als...\n",
      "Computing the msd similarity matrix...\n",
      "Done computing similarity matrix.\n",
      "MAE:  0.6899\n",
      "RMSE: 0.8999\n",
      "Estimating biases using als...\n",
      "Computing the msd similarity matrix...\n",
      "Done computing similarity matrix.\n",
      "MAE:  0.6895\n",
      "RMSE: 0.8995\n",
      "Estimating biases using als...\n",
      "Computing the msd similarity matrix...\n",
      "Done computing similarity matrix.\n",
      "MAE:  0.6891\n",
      "RMSE: 0.8992\n",
      "Estimating biases using als...\n",
      "Computing the msd similarity matrix...\n",
      "Done computing similarity matrix.\n",
      "MAE:  0.6887\n",
      "RMSE: 0.8988\n",
      "Estimating biases using als...\n",
      "Computing the msd similarity matrix...\n",
      "Done computing similarity matrix.\n",
      "MAE:  0.6884\n",
      "RMSE: 0.8986\n",
      "Estimating biases using als...\n",
      "Computing the msd similarity matrix...\n",
      "Done computing similarity matrix.\n",
      "MAE:  0.6883\n",
      "RMSE: 0.8986\n",
      "Estimating biases using als...\n",
      "Computing the msd similarity matrix...\n",
      "Done computing similarity matrix.\n",
      "MAE:  0.6882\n",
      "RMSE: 0.8985\n",
      "Estimating biases using als...\n",
      "Computing the msd similarity matrix...\n",
      "Done computing similarity matrix.\n",
      "MAE:  0.6880\n",
      "RMSE: 0.8983\n",
      "Estimating biases using als...\n",
      "Computing the msd similarity matrix...\n",
      "Done computing similarity matrix.\n",
      "MAE:  0.6879\n",
      "RMSE: 0.8982\n"
     ]
    }
   ],
   "source": [
    "userb_rmse = []\n",
    "userb_mae = []\n",
    "\n",
    "knn = list(np.arange(1,30,1))\n",
    "for i in knn:\n",
    "  algo_userb = KNNBaseline(k = i, sim_options = {'user_based' : True})\n",
    "  algo_userb.fit(train)\n",
    "    \n",
    "  predictions = algo_userb.test(test)\n",
    "  userb_mae.append(accuracy.mae(predictions))\n",
    "  userb_rmse.append(accuracy.rmse(predictions))"
   ]
  },
  {
   "cell_type": "code",
   "execution_count": 39,
   "id": "3e0b4e45",
   "metadata": {
    "execution": {
     "iopub.execute_input": "2022-11-22T03:39:51.978698Z",
     "iopub.status.busy": "2022-11-22T03:39:51.978368Z",
     "iopub.status.idle": "2022-11-22T03:39:52.167381Z",
     "shell.execute_reply": "2022-11-22T03:39:52.166721Z"
    },
    "papermill": {
     "duration": 0.216028,
     "end_time": "2022-11-22T03:39:52.169064",
     "exception": false,
     "start_time": "2022-11-22T03:39:51.953036",
     "status": "completed"
    },
    "tags": []
   },
   "outputs": [
    {
     "data": {
      "image/png": "[encoded data removed]",
      "text/plain": [
       "<Figure size 432x288 with 1 Axes>"
      ]
     },
     "metadata": {
      "needs_background": "light"
     },
     "output_type": "display_data"
    }
   ],
   "source": [
    "plt.plot(knn,userb_mae)\n",
    "plt.plot(knn,userb_rmse)\n",
    "plt.xlabel('Number of Neighbors')\n",
    "plt.ylabel('Test(MAE & RMSE)')\n",
    "plt.legend(['MAE','RMSE'])\n",
    "plt.title('User based Collaborative Filtering')\n",
    "plt.show()"
   ]
  },
  {
   "cell_type": "code",
   "execution_count": 40,
   "id": "48da1c7a",
   "metadata": {
    "execution": {
     "iopub.execute_input": "2022-11-22T03:39:52.220278Z",
     "iopub.status.busy": "2022-11-22T03:39:52.219945Z",
     "iopub.status.idle": "2022-11-22T03:39:52.225727Z",
     "shell.execute_reply": "2022-11-22T03:39:52.224295Z"
    },
    "papermill": {
     "duration": 0.034881,
     "end_time": "2022-11-22T03:39:52.228440",
     "exception": false,
     "start_time": "2022-11-22T03:39:52.193559",
     "status": "completed"
    },
    "tags": []
   },
   "outputs": [
    {
     "name": "stdout",
     "output_type": "stream",
     "text": [
      "Best K with Minimum RMSE for User based filtering :  29\n",
      "Minimum RMSE :  0.8981569017923834\n"
     ]
    }
   ],
   "source": [
    "#Best K\n",
    "bestK_userb = userb_rmse.index(min(userb_rmse))+1\n",
    "print('Best K with Minimum RMSE for User based filtering : ', bestK_userb)\n",
    "print('Minimum RMSE : ', min(userb_rmse))"
   ]
  },
  {
   "cell_type": "markdown",
   "id": "b67e4a29",
   "metadata": {
    "papermill": {
     "duration": 0.023709,
     "end_time": "2022-11-22T03:39:52.276940",
     "exception": false,
     "start_time": "2022-11-22T03:39:52.253231",
     "status": "completed"
    },
    "tags": []
   },
   "source": [
    "**Item Based**"
   ]
  },
  {
   "cell_type": "code",
   "execution_count": 41,
   "id": "6a41c177",
   "metadata": {
    "execution": {
     "iopub.execute_input": "2022-11-22T03:39:52.326525Z",
     "iopub.status.busy": "2022-11-22T03:39:52.326205Z",
     "iopub.status.idle": "2022-11-22T03:45:28.819700Z",
     "shell.execute_reply": "2022-11-22T03:45:28.818357Z"
    },
    "papermill": {
     "duration": 336.521864,
     "end_time": "2022-11-22T03:45:28.822717",
     "exception": false,
     "start_time": "2022-11-22T03:39:52.300853",
     "status": "completed"
    },
    "tags": []
   },
   "outputs": [
    {
     "name": "stdout",
     "output_type": "stream",
     "text": [
      "Estimating biases using als...\n",
      "Computing the msd similarity matrix...\n",
      "Done computing similarity matrix.\n",
      "MAE:  0.8966\n",
      "RMSE: 1.1852\n",
      "Estimating biases using als...\n",
      "Computing the msd similarity matrix...\n",
      "Done computing similarity matrix.\n",
      "MAE:  0.8095\n",
      "RMSE: 1.0589\n",
      "Estimating biases using als...\n",
      "Computing the msd similarity matrix...\n",
      "Done computing similarity matrix.\n",
      "MAE:  0.7726\n",
      "RMSE: 1.0091\n",
      "Estimating biases using als...\n",
      "Computing the msd similarity matrix...\n",
      "Done computing similarity matrix.\n",
      "MAE:  0.7499\n",
      "RMSE: 0.9779\n",
      "Estimating biases using als...\n",
      "Computing the msd similarity matrix...\n",
      "Done computing similarity matrix.\n",
      "MAE:  0.7381\n",
      "RMSE: 0.9618\n",
      "Estimating biases using als...\n",
      "Computing the msd similarity matrix...\n",
      "Done computing similarity matrix.\n",
      "MAE:  0.7290\n",
      "RMSE: 0.9501\n",
      "Estimating biases using als...\n",
      "Computing the msd similarity matrix...\n",
      "Done computing similarity matrix.\n",
      "MAE:  0.7226\n",
      "RMSE: 0.9409\n",
      "Estimating biases using als...\n",
      "Computing the msd similarity matrix...\n",
      "Done computing similarity matrix.\n",
      "MAE:  0.7169\n",
      "RMSE: 0.9339\n",
      "Estimating biases using als...\n",
      "Computing the msd similarity matrix...\n",
      "Done computing similarity matrix.\n",
      "MAE:  0.7130\n",
      "RMSE: 0.9286\n",
      "Estimating biases using als...\n",
      "Computing the msd similarity matrix...\n",
      "Done computing similarity matrix.\n",
      "MAE:  0.7095\n",
      "RMSE: 0.9242\n",
      "Estimating biases using als...\n",
      "Computing the msd similarity matrix...\n",
      "Done computing similarity matrix.\n",
      "MAE:  0.7062\n",
      "RMSE: 0.9194\n",
      "Estimating biases using als...\n",
      "Computing the msd similarity matrix...\n",
      "Done computing similarity matrix.\n",
      "MAE:  0.7040\n",
      "RMSE: 0.9164\n",
      "Estimating biases using als...\n",
      "Computing the msd similarity matrix...\n",
      "Done computing similarity matrix.\n",
      "MAE:  0.7014\n",
      "RMSE: 0.9130\n",
      "Estimating biases using als...\n",
      "Computing the msd similarity matrix...\n",
      "Done computing similarity matrix.\n",
      "MAE:  0.6995\n",
      "RMSE: 0.9106\n",
      "Estimating biases using als...\n",
      "Computing the msd similarity matrix...\n",
      "Done computing similarity matrix.\n",
      "MAE:  0.6977\n",
      "RMSE: 0.9085\n",
      "Estimating biases using als...\n",
      "Computing the msd similarity matrix...\n",
      "Done computing similarity matrix.\n",
      "MAE:  0.6959\n",
      "RMSE: 0.9065\n",
      "Estimating biases using als...\n",
      "Computing the msd similarity matrix...\n",
      "Done computing similarity matrix.\n",
      "MAE:  0.6950\n",
      "RMSE: 0.9047\n",
      "Estimating biases using als...\n",
      "Computing the msd similarity matrix...\n",
      "Done computing similarity matrix.\n",
      "MAE:  0.6939\n",
      "RMSE: 0.9032\n",
      "Estimating biases using als...\n",
      "Computing the msd similarity matrix...\n",
      "Done computing similarity matrix.\n",
      "MAE:  0.6931\n",
      "RMSE: 0.9019\n",
      "Estimating biases using als...\n",
      "Computing the msd similarity matrix...\n",
      "Done computing similarity matrix.\n",
      "MAE:  0.6921\n",
      "RMSE: 0.9006\n",
      "Estimating biases using als...\n",
      "Computing the msd similarity matrix...\n",
      "Done computing similarity matrix.\n",
      "MAE:  0.6913\n",
      "RMSE: 0.8995\n",
      "Estimating biases using als...\n",
      "Computing the msd similarity matrix...\n",
      "Done computing similarity matrix.\n",
      "MAE:  0.6906\n",
      "RMSE: 0.8986\n",
      "Estimating biases using als...\n",
      "Computing the msd similarity matrix...\n",
      "Done computing similarity matrix.\n",
      "MAE:  0.6900\n",
      "RMSE: 0.8978\n",
      "Estimating biases using als...\n",
      "Computing the msd similarity matrix...\n",
      "Done computing similarity matrix.\n",
      "MAE:  0.6890\n",
      "RMSE: 0.8966\n",
      "Estimating biases using als...\n",
      "Computing the msd similarity matrix...\n",
      "Done computing similarity matrix.\n",
      "MAE:  0.6885\n",
      "RMSE: 0.8959\n",
      "Estimating biases using als...\n",
      "Computing the msd similarity matrix...\n",
      "Done computing similarity matrix.\n",
      "MAE:  0.6877\n",
      "RMSE: 0.8949\n",
      "Estimating biases using als...\n",
      "Computing the msd similarity matrix...\n",
      "Done computing similarity matrix.\n",
      "MAE:  0.6868\n",
      "RMSE: 0.8939\n",
      "Estimating biases using als...\n",
      "Computing the msd similarity matrix...\n",
      "Done computing similarity matrix.\n",
      "MAE:  0.6865\n",
      "RMSE: 0.8936\n",
      "Estimating biases using als...\n",
      "Computing the msd similarity matrix...\n",
      "Done computing similarity matrix.\n",
      "MAE:  0.6860\n",
      "RMSE: 0.8932\n"
     ]
    }
   ],
   "source": [
    "itemb_rmse = []\n",
    "itemb_mae = []\n",
    "\n",
    "knn = list(np.arange(1,30,1))\n",
    "for i in knn:\n",
    "  algo_itemb = KNNBaseline(k = i, sim_options = {'user_based' : False})\n",
    "  algo_itemb.fit(train)\n",
    "    \n",
    "  predictions = algo_itemb.test(test)\n",
    "  itemb_mae.append(accuracy.mae(predictions))\n",
    "  itemb_rmse.append(accuracy.rmse(predictions))"
   ]
  },
  {
   "cell_type": "markdown",
   "id": "5d63df14",
   "metadata": {
    "papermill": {
     "duration": 0.026198,
     "end_time": "2022-11-22T03:45:28.876452",
     "exception": false,
     "start_time": "2022-11-22T03:45:28.850254",
     "status": "completed"
    },
    "tags": []
   },
   "source": []
  },
  {
   "cell_type": "code",
   "execution_count": 42,
   "id": "7ead29f4",
   "metadata": {
    "execution": {
     "iopub.execute_input": "2022-11-22T03:45:28.931753Z",
     "iopub.status.busy": "2022-11-22T03:45:28.931445Z",
     "iopub.status.idle": "2022-11-22T03:45:29.068406Z",
     "shell.execute_reply": "2022-11-22T03:45:29.067076Z"
    },
    "papermill": {
     "duration": 0.167918,
     "end_time": "2022-11-22T03:45:29.070754",
     "exception": false,
     "start_time": "2022-11-22T03:45:28.902836",
     "status": "completed"
    },
    "tags": []
   },
   "outputs": [
    {
     "data": {
      "image/png": "[encoded data removed]",
      "text/plain": [
       "<Figure size 432x288 with 1 Axes>"
      ]
     },
     "metadata": {
      "needs_background": "light"
     },
     "output_type": "display_data"
    }
   ],
   "source": [
    "plt.plot(knn,itemb_mae)\n",
    "plt.plot(knn,itemb_rmse)\n",
    "plt.xlabel('Number of Neighbors')\n",
    "plt.ylabel('Test(MAE & RMSE)')\n",
    "plt.legend(['MAE','RMSE'])\n",
    "plt.title('Item based Collaborative Filtering')\n",
    "plt.show()"
   ]
  },
  {
   "cell_type": "code",
   "execution_count": 43,
   "id": "da01d44c",
   "metadata": {
    "execution": {
     "iopub.execute_input": "2022-11-22T03:45:29.127158Z",
     "iopub.status.busy": "2022-11-22T03:45:29.126801Z",
     "iopub.status.idle": "2022-11-22T03:45:29.132880Z",
     "shell.execute_reply": "2022-11-22T03:45:29.131936Z"
    },
    "papermill": {
     "duration": 0.036657,
     "end_time": "2022-11-22T03:45:29.134802",
     "exception": false,
     "start_time": "2022-11-22T03:45:29.098145",
     "status": "completed"
    },
    "tags": []
   },
   "outputs": [
    {
     "name": "stdout",
     "output_type": "stream",
     "text": [
      "Best K with Minimum RMSE for Item Based filtering :  29\n",
      "Minimum RMSE :  0.8932402136452068\n"
     ]
    }
   ],
   "source": [
    "#Best K\n",
    "bestK_itemb = itemb_rmse.index(min(itemb_rmse))+1\n",
    "print('Best K with Minimum RMSE for Item Based filtering : ', bestK_itemb)\n",
    "print('Minimum RMSE : ', min(itemb_rmse))"
   ]
  }
 ],
 "metadata": {
  "kernelspec": {
   "display_name": "Python 3",
   "language": "python",
   "name": "python3"
  },
  "language_info": {
   "codemirror_mode": {
    "name": "ipython",
    "version": 3
   },
   "file_extension": ".py",
   "mimetype": "text/x-python",
   "name": "python",
   "nbconvert_exporter": "python",
   "pygments_lexer": "ipython3",
   "version": "3.7.12"
  },
  "papermill": {
   "default_parameters": {},
   "duration": 996.849597,
   "end_time": "2022-11-22T03:45:29.989780",
   "environment_variables": {},
   "exception": null,
   "input_path": "__notebook__.ipynb",
   "output_path": "__notebook__.ipynb",
   "parameters": {},
   "start_time": "2022-11-22T03:28:53.140183",
   "version": "2.3.4"
  }
 },
 "nbformat": 4,
 "nbformat_minor": 5
}
